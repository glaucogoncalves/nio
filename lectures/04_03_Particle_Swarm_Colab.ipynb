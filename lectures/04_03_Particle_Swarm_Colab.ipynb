{
  "cells": [
    {
      "cell_type": "markdown",
      "metadata": {
        "id": "D7hgaPTPUuK0"
      },
      "source": [
        "# Particle Swarm Optimization (PSO)\n",
        "\n",
        "<a href=\"https://github.com/glaucogoncalves/nio/blob/main/lectures/04_03_Particle_Swarm_Colab.ipynb\" target=\"_parent\"><img src=\"https://colab.research.google.com/assets/colab-badge.svg\" alt=\"Open In Colab\"/></a>"
      ]
    },
    {
      "cell_type": "markdown",
      "metadata": {
        "id": "51-FYjuCUvVO"
      },
      "source": [
        "## 1. Origin and Inspiration"
      ]
    },
    {
      "cell_type": "markdown",
      "metadata": {},
      "source": [
        "* PSO was proposed by **James Kennedy** and **Russell Eberhart** in 1995 after observing the collective behavior of bird flocks and fish schools, a phenomenon popularized as *swarm intelligence*.  \n",
        "* The core idea is that each individual (particle) adjusts its movement by balancing **exploration** (global search) and **local exploitation** (social learning)."
      ]
    },
    {
      "cell_type": "markdown",
      "metadata": {},
      "source": [
        "**Swarm Intelligence**\n",
        "\n",
        "* PSO pioneered the basic ideas of swarm-intelligence-based computation\n",
        "* Swarm Intelligence is used also on other algorithms as ant colony algorithms and firefly algorithm \n",
        "* PSO is the most widely used swarm-intelligence-based algorithm due to its simplicity and flexibility"
      ]
    },
    {
      "cell_type": "markdown",
      "metadata": {
        "id": "hbHycROdU2s_"
      },
      "source": [
        "## 2. General Structure of PSO\n",
        "\n",
        "- **Particle**: position vector $\\mathbf{x}_i$ that encodes a candidate solution\n",
        "- **Velocity**: vector $\\mathbf{v}_i$ that defines direction and step size of movement\n",
        "- **Personal history** `pbest` ($\\mathbf{x}^*_i$): best position ever visited by the particle\n",
        "- **Global history** `gbest` ($\\mathbf{g}^*$): best position ever found by the swarm\n",
        "- **Main idea**:\n",
        "    * At each iteration, the position of each particle is updated\n",
        "        * The motion goes towards the position of `gbest` and its own best location `pbest`\n",
        "        * At the same time it has a tendency to move randomly"
      ]
    },
    {
      "cell_type": "markdown",
      "metadata": {
        "id": "Ufriqk9XVFCv"
      },
      "source": [
        "\n",
        "\n",
        "\n",
        "## 3. Fundamental Equations\n",
        "\n",
        "The velocity of each particle $i$ at $t\\!+\\!1$ is given by:\n",
        "\n",
        "$$\n",
        "\\mathbf{v}_{i}^{t+1} = \\mathbf{v}_i^{t} + \\alpha\\,\\varepsilon_1\\,(\\mathbf{g}^* - \\mathbf{x}_i^{t}) +\n",
        "\\beta\\,\\varepsilon_2\\,(\\mathbf{x}^*_i - \\mathbf{x}_i^{t}) \\tag{1}\n",
        "$$\n",
        "\n",
        "* $\\alpha, \\beta$: acceleration coefficients (or *learning factors*).  \n",
        "* $\\varepsilon_1, \\varepsilon_2 \\sim U(0,1)$: uniform noise vectors.\n",
        "\n",
        "Next, the position is updated by:\n",
        "\n",
        "$$\n",
        "\\mathbf{x}_i^{t+1} = \\mathbf{x}_i^{t} + \\mathbf{v}_i^{t+1} \\tag{2}\n",
        "$$\n",
        "\n",
        "### Variant with inertia function\n",
        "\n",
        "$$\n",
        "\\mathbf{v}_{i}^{t+1} = \\theta(t)\\,\\mathbf{v}_i^{t} + \\alpha\\,\\varepsilon_1\\,(\\mathbf{g}^* - \\mathbf{x}_i^{t}) +\n",
        "\\beta\\,\\varepsilon_2\\,(\\mathbf{x}^*_i - \\mathbf{x}_i^{t}) \\tag{3}\n",
        "$$\n",
        "\n",
        "The inertia function $\\theta(t)$ take values between 0 and 1 and it reduces the velocity, acting as a “virtual mass” that stabilizes the movement of the particles. The simplest function is to use a constant $\\theta$, whose value can be set from 0.5 to 0.9. The motion of the particles is more stable and, for this reason, the algorithm is expected to have faster convergence.\n"
      ]
    },
    {
      "cell_type": "markdown",
      "metadata": {},
      "source": [
        "<img src=\"./figures/pso-schema.png\" alt=\"drawing\" width=\"700\"/>\n"
      ]
    },
    {
      "cell_type": "markdown",
      "metadata": {},
      "source": [
        "*Schematic representation of the motion of a particle in PSO, moving toward the global best* $\\mathbf{g}^*$ *and the current personal best* $\\mathbf{x}^*_i$ *for each particle* $i$."
      ]
    },
    {
      "cell_type": "markdown",
      "metadata": {
        "id": "yR12JsgFVJmK"
      },
      "source": [
        "## 4. Classical Pseudocode\n",
        "\n",
        "1. Initialize a population of $n$ particles (positions $\\mathbf{x}_i$ and velocities $\\mathbf{v}_i$)  \n",
        "2. Evaluate $f(\\mathbf{x}_i)$ and set $\\mathbf{x}^*_i = \\mathbf{x}_i$  \n",
        "3. Set $\\mathbf{g}^* = \\arg\\min f(\\mathbf{x}^*_i)$  \n",
        "4. While stopping criterion is not satisfied:  \n",
        "    - For each particle $i$:  \n",
        "        - Update $\\mathbf{v}_i$ using Eq. (1) or (3)  \n",
        "        - Update $\\mathbf{x}_i = \\mathbf{x}_i + \\mathbf{v}_i$  \n",
        "        - Evaluate $f(\\mathbf{x}_i)$  \n",
        "        - If $f(\\mathbf{x}_i) < f(\\mathbf{x}^*_i)$:  \n",
        "            - $\\mathbf{x}^*_i = \\mathbf{x}_i$  \n",
        "    - Update $\\mathbf{g}^* \\text{ with the best } \\mathbf{x}^*_i$\n",
        "\n",
        "\n",
        "5. Return $\\mathbf{g}^*$\n"
      ]
    },
    {
      "cell_type": "markdown",
      "metadata": {
        "id": "_aD4fgFPWvh9"
      },
      "source": [
        "## Practical Execution Example\n"
      ]
    },
    {
      "cell_type": "markdown",
      "metadata": {
        "id": "xHeqn9rRW-wb"
      },
      "source": [
        "### 1 — Functions Used"
      ]
    },
    {
      "cell_type": "markdown",
      "metadata": {},
      "source": [
        "#### 📌 Rosenbrock\n",
        "\n",
        "**Definition:**\n",
        "\n",
        "$$\n",
        "f(x_1, x_2) = 100\\,(x_2 - x_1^2)^2 + (1 - x_1)^2\n",
        "$$\n",
        "\n",
        "**Global minimum:**  \n",
        "$(1, 1)$ with $f_{\\min} = 0$\n",
        "\n",
        "**Characteristics:**  \n",
        "Smooth landscape, but with a **narrow and curved valley**. Requires good exploration to find the valley and precise movement to follow it.\n",
        "\n",
        "---\n",
        "\n",
        "#### 📌 Ackley\n",
        "\n",
        "**Definition:**\n",
        "\n",
        "$$\n",
        "f(x) = -20\\,e^{-0.2\\sqrt{\\frac{x_1^2 + x_2^2}{2}}}\n",
        "- e^{\\frac{\\cos(2\\pi x_1) + \\cos(2\\pi x_2)}{2}}\n",
        "+ 20 + e\n",
        "$$\n",
        "\n",
        "**Global minimum:**  \n",
        "$(0, 0)$ with $f_{\\min} = 0$\n",
        "\n",
        "**Characteristics:**  \n",
        "Highly **multimodal**: many concentric local minima. Ideal for testing whether the algorithm avoids getting trapped and converges to the global minimum.\n",
        "\n",
        "---\n",
        "\n",
        "The GIFs illustrate, frame by frame, the trajectory of the particles and the convergence curve of PSO over these two surfaces."
      ]
    },
    {
      "cell_type": "markdown",
      "metadata": {
        "id": "N2d0mHuHtxPy"
      },
      "source": [
        "**Note: the GIF cannot be displayed on GitHub. Open the Colab notebook to visualize the behavior of both functions.**\n",
        "\n",
        "\n",
        "https://colab.research.google.com/github/glaucogoncalves/nio/blob/Add-PSO/lectures/04_03_Particle_Swarm_Colab.ipynb\n"
      ]
    },
    {
      "cell_type": "markdown",
      "metadata": {
        "id": "Chw5BTh6r-nI"
      },
      "source": [
        "<img src=\"https://raw.githubusercontent.com/KeishiIshihara/pso_with_python/2072c5aac9910d31043c718d6521f92d7d8a0111/gif/PSO_Rosenbrock_population_30.gif\" width=\"1800\">\n"
      ]
    },
    {
      "cell_type": "markdown",
      "metadata": {
        "id": "pJ6OufEhrS3N"
      },
      "source": [
        "<img src=\"https://raw.githubusercontent.com/KeishiIshihara/pso_with_python/2072c5aac9910d31043c718d6521f92d7d8a0111/gif/PSO_Ackley_population_30.gif\" width=\"1800\">\n"
      ]
    },
    {
      "cell_type": "markdown",
      "metadata": {},
      "source": [
        "## Binary PSO (BPSO)"
      ]
    },
    {
      "cell_type": "markdown",
      "metadata": {},
      "source": [
        "* The standard PSO take continuous values (position and velocity).\n",
        "* What to do when decision variables are binary?\n",
        "* [(Kennedy & Eberhart, 1997)](https://ieeexplore.ieee.org/abstract/document/637339) proposed a stochastic approach to discretize PSO\n",
        "  * The velocity is adjusted to be between 0 and 1, and it is interpreted as a probability"
      ]
    },
    {
      "cell_type": "markdown",
      "metadata": {},
      "source": [
        "### Strategy"
      ]
    },
    {
      "cell_type": "markdown",
      "metadata": {},
      "source": [
        "1. Before computing $\\mathbf{x}_i$, <u>each component</u> of the continuous velocity $\\mathbf{v}_i = (v_{i1} , v_{i2} , \\ldots , v_{ik} , \\ldots , v_{id} )$ is transformed using a sigmoid transformation\n",
        "\n",
        "$S(v_{ik}) = \\frac{1}{1+e^{-v_{ik}}}, \\, k = 1,2,\\ldots,d$\n",
        "\n",
        "2. A uniformly distributed random number $r \\in (0, 1)$ is drawn and the position is set as\n",
        "\n",
        "$x_{ik} =\n",
        "      \\begin{cases}\n",
        "      1  & \\text{if } r \\lt S(v_{ik}) \\\\\n",
        "      0 & \\text{otherwise}\n",
        "      \\end{cases} \\\\ $"
      ]
    },
    {
      "cell_type": "markdown",
      "metadata": {
        "id": "o36bZ11waDVo"
      },
      "source": [
        "# PSO Implementation\n"
      ]
    },
    {
      "cell_type": "markdown",
      "metadata": {
        "id": "6LUYFXqhsqtW"
      },
      "source": [
        "## Rosenbrock Function\n"
      ]
    },
    {
      "cell_type": "code",
      "execution_count": null,
      "metadata": {
        "colab": {
          "base_uri": "https://localhost:8080/"
        },
        "id": "pvl57kQ_aGI7",
        "outputId": "1600148c-d311-4200-a74f-b92fe0f09566"
      },
      "outputs": [
        {
          "name": "stdout",
          "output_type": "stream",
          "text": [
            "Rosenbrock  —  best x: [0.99755815 0.99527461] |  f(x) = 8.283566423277775e-06\n"
          ]
        }
      ],
      "source": [
        "import numpy as np\n",
        "\n",
        "# -------- Rosenbrock Function --------\n",
        "def rosenbrock(x):\n",
        "    return 100.0 * (x[1] - x[0]**2)**2 + (1 - x[0])**2\n",
        "\n",
        "# ---------- PSO Algorithm ----------\n",
        "def pso(func, bounds, n_particles=30, n_iter=100,\n",
        "        w=0.7, c1=1.5, c2=1.5, vmax=0.2):\n",
        "    dim = len(bounds)\n",
        "\n",
        "    # initial positions and velocities\n",
        "    pos = np.random.uniform(bounds[:, 0], bounds[:, 1],\n",
        "                            size=(n_particles, dim))\n",
        "    vel = np.random.uniform(-abs(bounds[:, 1] - bounds[:, 0]),\n",
        "                            abs(bounds[:, 1] - bounds[:, 0]),\n",
        "                            size=(n_particles, dim)) * 0.1\n",
        "\n",
        "    pbest = pos.copy()\n",
        "    pbest_val = np.apply_along_axis(func, 1, pbest)\n",
        "    gbest_idx = np.argmin(pbest_val)\n",
        "    gbest = pbest[gbest_idx].copy()\n",
        "    gbest_val = pbest_val[gbest_idx]\n",
        "\n",
        "    hist = [gbest_val]\n",
        "\n",
        "    for _ in range(n_iter):\n",
        "        r1, r2 = np.random.rand(n_particles, dim), np.random.rand(n_particles, dim)\n",
        "        # velocity update\n",
        "        vel = (w * vel\n",
        "               + c1 * r1 * (pbest - pos)\n",
        "               + c2 * r2 * (gbest - pos))\n",
        "        vel = np.clip(vel, -vmax, vmax)\n",
        "\n",
        "        # position update\n",
        "        pos += vel\n",
        "        pos = np.clip(pos, bounds[:, 0], bounds[:, 1])\n",
        "\n",
        "        # evaluation\n",
        "        vals = np.apply_along_axis(func, 1, pos)\n",
        "        better = vals < pbest_val\n",
        "        pbest[better] = pos[better]\n",
        "        pbest_val[better] = vals[better]\n",
        "\n",
        "        # new gbest\n",
        "        gbest_idx = np.argmin(pbest_val)\n",
        "        if pbest_val[gbest_idx] < gbest_val:\n",
        "            gbest_val = pbest_val[gbest_idx]\n",
        "            gbest = pbest[gbest_idx].copy()\n",
        "\n",
        "        hist.append(gbest_val)\n",
        "\n",
        "    return gbest, gbest_val, np.array(hist)\n",
        "\n",
        "# -------- Execution on Rosenbrock --------\n",
        "bounds_rb = np.array([[-5, 5], [-5, 5]])\n",
        "\n",
        "gbest, gbest_val, hist = pso(rosenbrock, bounds_rb,\n",
        "                             n_particles=30, n_iter=100)\n",
        "\n",
        "print(\"Rosenbrock  —  best x:\", gbest, \"|  f(x) =\", gbest_val)"
      ]
    },
    {
      "cell_type": "markdown",
      "metadata": {
        "id": "f3FStdNkswvh"
      },
      "source": [
        "## Ackley Function"
      ]
    },
    {
      "cell_type": "code",
      "execution_count": null,
      "metadata": {
        "colab": {
          "base_uri": "https://localhost:8080/"
        },
        "id": "zOP_LV8gaSyZ",
        "outputId": "aa4cf4ce-315c-4cea-f7f3-17b4dbfde415"
      },
      "outputs": [
        {
          "name": "stdout",
          "output_type": "stream",
          "text": [
            "Ackley  —  best x: [-1.32693312e-04 -9.51686526e-01] |  f(x) = 2.5799335058905375\n"
          ]
        }
      ],
      "source": [
        "import numpy as np\n",
        "\n",
        "# -------- Ackley Function --------\n",
        "def ackley(x):\n",
        "    d = len(x)\n",
        "    term1 = -20.0 * np.exp(-0.2 * np.sqrt((x[0]**2 + x[1]**2) / d))\n",
        "    term2 = -np.exp((np.cos(2*np.pi*x[0]) + np.cos(2*np.pi*x[1])) / d)\n",
        "    return term1 + term2 + 20 + np.e\n",
        "\n",
        "# Reuse the same pso() function defined earlier\n",
        "\n",
        "# -------- Execution on Ackley --------\n",
        "bounds_ak = np.array([[-32, 32], [-32, 32]])\n",
        "\n",
        "gbest, gbest_val, hist = pso(ackley, bounds_ak,\n",
        "                             n_particles=30, n_iter=100)\n",
        "\n",
        "print(\"Ackley  —  best x:\", gbest, \"|  f(x) =\", gbest_val)"
      ]
    },
    {
      "cell_type": "markdown",
      "metadata": {
        "id": "XEQDUAfCafK5"
      },
      "source": [
        "# Using the pyMetaheuristic Library\n"
      ]
    },
    {
      "cell_type": "code",
      "execution_count": null,
      "metadata": {
        "colab": {
          "base_uri": "https://localhost:8080/"
        },
        "id": "mcMDz6kbakNc",
        "outputId": "0b8c2c07-585d-4157-d0e0-b11116bbc859"
      },
      "outputs": [
        {
          "name": "stdout",
          "output_type": "stream",
          "text": [
            "Collecting pyMetaheuristic\n",
            "  Downloading pyMetaheuristic-1.9.5-py3-none-any.whl.metadata (19 kB)\n",
            "Requirement already satisfied: numpy in /usr/local/lib/python3.11/dist-packages (from pyMetaheuristic) (2.0.2)\n",
            "Requirement already satisfied: plotly in /usr/local/lib/python3.11/dist-packages (from pyMetaheuristic) (5.24.1)\n",
            "Requirement already satisfied: scipy in /usr/local/lib/python3.11/dist-packages (from pyMetaheuristic) (1.15.3)\n",
            "Requirement already satisfied: tenacity>=6.2.0 in /usr/local/lib/python3.11/dist-packages (from plotly->pyMetaheuristic) (9.1.2)\n",
            "Requirement already satisfied: packaging in /usr/local/lib/python3.11/dist-packages (from plotly->pyMetaheuristic) (24.2)\n",
            "Downloading pyMetaheuristic-1.9.5-py3-none-any.whl (98 kB)\n",
            "\u001b[2K   \u001b[90m━━━━━━━━━━━━━━━━━━━━━━━━━━━━━━━━━━━━━━━━\u001b[0m \u001b[32m98.4/98.4 kB\u001b[0m \u001b[31m2.4 MB/s\u001b[0m eta \u001b[36m0:00:00\u001b[0m\n",
            "\u001b[?25hInstalling collected packages: pyMetaheuristic\n",
            "Successfully installed pyMetaheuristic-1.9.5\n"
          ]
        }
      ],
      "source": [
        "!pip install pyMetaheuristic"
      ]
    },
    {
      "cell_type": "markdown",
      "metadata": {
        "id": "d-JoTQGRs6Xs"
      },
      "source": [
        "## Rosenbrock Function\n"
      ]
    },
    {
      "cell_type": "code",
      "execution_count": null,
      "metadata": {
        "colab": {
          "base_uri": "https://localhost:8080/"
        },
        "id": "YFm0TpguamKz",
        "outputId": "bd864cdd-68de-449d-c81c-48ca6bd72c52"
      },
      "outputs": [
        {
          "name": "stdout",
          "output_type": "stream",
          "text": [
            "Iteration =  0  f(x) =  40.29075718793515\n",
            "Iteration =  1  f(x) =  10.429779485635471\n",
            "Iteration =  2  f(x) =  6.176491916024749\n",
            "Iteration =  3  f(x) =  1.8951417577094085\n",
            "Iteration =  4  f(x) =  1.8951417577094085\n",
            "Iteration =  5  f(x) =  1.46815201433121\n",
            "Iteration =  6  f(x) =  1.46815201433121\n",
            "Iteration =  7  f(x) =  1.46815201433121\n",
            "Iteration =  8  f(x) =  0.16068728604241678\n",
            "Iteration =  9  f(x) =  0.08089512197252595\n",
            "Iteration =  10  f(x) =  0.05329190551223964\n",
            "Iteration =  11  f(x) =  0.05329190551223964\n",
            "Iteration =  12  f(x) =  0.05329190551223964\n",
            "Iteration =  13  f(x) =  0.014657346769444341\n",
            "Iteration =  14  f(x) =  0.014657346769444341\n",
            "Iteration =  15  f(x) =  0.014657346769444341\n",
            "Iteration =  16  f(x) =  0.014657346769444341\n",
            "Iteration =  17  f(x) =  0.014657346769444341\n",
            "Iteration =  18  f(x) =  0.014657346769444341\n",
            "Iteration =  19  f(x) =  0.014657346769444341\n",
            "Iteration =  20  f(x) =  0.014657346769444341\n",
            "Iteration =  21  f(x) =  0.014657346769444341\n",
            "Iteration =  22  f(x) =  0.014657346769444341\n",
            "Iteration =  23  f(x) =  0.014657346769444341\n",
            "Iteration =  24  f(x) =  0.014657346769444341\n",
            "Iteration =  25  f(x) =  0.014389828398935128\n",
            "Iteration =  26  f(x) =  0.014389828398935128\n",
            "Iteration =  27  f(x) =  0.013639651444397\n",
            "Iteration =  28  f(x) =  0.013639651444397\n",
            "Iteration =  29  f(x) =  0.008492846370288677\n",
            "Iteration =  30  f(x) =  0.008492846370288677\n",
            "Iteration =  31  f(x) =  0.008492846370288677\n",
            "Iteration =  32  f(x) =  0.008492846370288677\n",
            "Iteration =  33  f(x) =  0.008492846370288677\n",
            "Iteration =  34  f(x) =  0.006666194180434651\n",
            "Iteration =  35  f(x) =  0.006666194180434651\n",
            "Iteration =  36  f(x) =  0.006666194180434651\n",
            "Iteration =  37  f(x) =  0.006666194180434651\n",
            "Iteration =  38  f(x) =  0.006666194180434651\n",
            "Iteration =  39  f(x) =  0.006666194180434651\n",
            "Iteration =  40  f(x) =  0.006666194180434651\n",
            "Iteration =  41  f(x) =  0.006666194180434651\n",
            "Iteration =  42  f(x) =  0.000759598766070661\n",
            "Iteration =  43  f(x) =  0.000759598766070661\n",
            "Iteration =  44  f(x) =  0.000759598766070661\n",
            "Iteration =  45  f(x) =  0.000759598766070661\n",
            "Iteration =  46  f(x) =  0.000759598766070661\n",
            "Iteration =  47  f(x) =  0.0007472890155150109\n",
            "Iteration =  48  f(x) =  0.0007472890155150109\n",
            "Iteration =  49  f(x) =  0.0007472890155150109\n",
            "Iteration =  50  f(x) =  0.0007472890155150109\n",
            "Iteration =  51  f(x) =  0.0007472890155150109\n",
            "Iteration =  52  f(x) =  0.0004190703008330779\n",
            "Iteration =  53  f(x) =  0.0004190703008330779\n",
            "Iteration =  54  f(x) =  0.0004190703008330779\n",
            "Iteration =  55  f(x) =  0.0004190703008330779\n",
            "Iteration =  56  f(x) =  0.0004190703008330779\n",
            "Iteration =  57  f(x) =  0.0004190703008330779\n",
            "Iteration =  58  f(x) =  0.0004190703008330779\n",
            "Iteration =  59  f(x) =  2.8521929000922935e-05\n",
            "Iteration =  60  f(x) =  2.8521929000922935e-05\n",
            "Iteration =  61  f(x) =  2.8521929000922935e-05\n",
            "Iteration =  62  f(x) =  2.8521929000922935e-05\n",
            "Iteration =  63  f(x) =  2.8521929000922935e-05\n",
            "Iteration =  64  f(x) =  2.8521929000922935e-05\n",
            "Iteration =  65  f(x) =  2.8521929000922935e-05\n",
            "Iteration =  66  f(x) =  2.8521929000922935e-05\n",
            "Iteration =  67  f(x) =  2.8521929000922935e-05\n",
            "Iteration =  68  f(x) =  2.8521929000922935e-05\n",
            "Iteration =  69  f(x) =  2.8521929000922935e-05\n",
            "Iteration =  70  f(x) =  2.8521929000922935e-05\n",
            "Iteration =  71  f(x) =  2.8521929000922935e-05\n",
            "Iteration =  72  f(x) =  2.8521929000922935e-05\n",
            "Iteration =  73  f(x) =  2.8521929000922935e-05\n",
            "Iteration =  74  f(x) =  2.8521929000922935e-05\n",
            "Iteration =  75  f(x) =  2.8521929000922935e-05\n",
            "Iteration =  76  f(x) =  2.8521929000922935e-05\n",
            "Iteration =  77  f(x) =  2.8521929000922935e-05\n",
            "Iteration =  78  f(x) =  2.8521929000922935e-05\n",
            "Iteration =  79  f(x) =  2.8521929000922935e-05\n",
            "Iteration =  80  f(x) =  2.8521929000922935e-05\n",
            "Iteration =  81  f(x) =  2.8521929000922935e-05\n",
            "Iteration =  82  f(x) =  2.8521929000922935e-05\n",
            "Iteration =  83  f(x) =  2.673154403289989e-05\n",
            "Iteration =  84  f(x) =  2.673154403289989e-05\n",
            "Iteration =  85  f(x) =  2.529209968947269e-05\n",
            "Iteration =  86  f(x) =  2.529209968947269e-05\n",
            "Iteration =  87  f(x) =  2.529209968947269e-05\n",
            "Iteration =  88  f(x) =  2.529209968947269e-05\n",
            "Iteration =  89  f(x) =  2.529209968947269e-05\n",
            "Iteration =  90  f(x) =  2.492856177309981e-05\n",
            "Iteration =  91  f(x) =  2.4601925781731566e-05\n",
            "Iteration =  92  f(x) =  2.437456791795735e-05\n",
            "Iteration =  93  f(x) =  2.4216048198531585e-05\n",
            "Iteration =  94  f(x) =  2.4105393477560813e-05\n",
            "Iteration =  95  f(x) =  2.4028086622669664e-05\n",
            "Iteration =  96  f(x) =  2.397404603440996e-05\n",
            "Iteration =  97  f(x) =  2.3936253985531113e-05\n",
            "Iteration =  98  f(x) =  2.3909817369112743e-05\n",
            "Iteration =  99  f(x) =  2.389132046833329e-05\n",
            "Iteration =  100  f(x) =  2.387837691583216e-05\n",
            "Rosenbrock → x = [1.004882 1.009771] | f(x) = 2.3869318525322578e-05\n"
          ]
        }
      ],
      "source": [
        "import numpy as np\n",
        "from pyMetaheuristic.algorithm import particle_swarm_optimization\n",
        "\n",
        "# ----- Objective Function -----\n",
        "def rosenbrock(variables_values = [0, 0]):\n",
        "    x1, x2 = variables_values\n",
        "    return 100*(x2 - x1**2)**2 + (1 - x1)**2\n",
        "\n",
        "# ----- PSO Parameters -----\n",
        "parameters_rb = {\n",
        "    'swarm_size'  : 30,\n",
        "    'min_values'  : (-5, -5),\n",
        "    'max_values'  : ( 5,  5),\n",
        "    'iterations'  : 100,\n",
        "    'decay'       : 0,\n",
        "    'w'           : 0.7,\n",
        "    'c1'          : 1.5,\n",
        "    'c2'          : 1.5,\n",
        "    'verbose'     : True,\n",
        "    'start_init'  : None,\n",
        "    'target_value': None\n",
        "}\n",
        "\n",
        "# ----- Execution -----\n",
        "pso_rb = particle_swarm_optimization(\n",
        "            target_function = rosenbrock,\n",
        "            **parameters_rb\n",
        "         )\n",
        "\n",
        "vars_rb = pso_rb[:-1]   # coordinates\n",
        "best_rb = pso_rb[-1]    # minimum value\n",
        "print('Rosenbrock → x =', np.around(vars_rb, 6),\n",
        "      '| f(x) =', best_rb)"
      ]
    },
    {
      "cell_type": "markdown",
      "metadata": {
        "id": "cmUVc92rs97L"
      },
      "source": [
        "## Ackley Function"
      ]
    },
    {
      "cell_type": "code",
      "execution_count": null,
      "metadata": {
        "colab": {
          "base_uri": "https://localhost:8080/"
        },
        "id": "f0oRuNshaqC6",
        "outputId": "0aaafff3-480a-456b-af2d-633986f36e97"
      },
      "outputs": [
        {
          "name": "stdout",
          "output_type": "stream",
          "text": [
            "Iteration =  0  f(x) =  8.020115437766737\n",
            "Iteration =  1  f(x) =  8.020115437766737\n",
            "Iteration =  2  f(x) =  6.024532782826803\n",
            "Iteration =  3  f(x) =  6.024532782826803\n",
            "Iteration =  4  f(x) =  6.024532782826803\n",
            "Iteration =  5  f(x) =  2.658685606583504\n",
            "Iteration =  6  f(x) =  2.658685606583504\n",
            "Iteration =  7  f(x) =  2.658685606583504\n",
            "Iteration =  8  f(x) =  2.658685606583504\n",
            "Iteration =  9  f(x) =  2.658685606583504\n",
            "Iteration =  10  f(x) =  2.658685606583504\n",
            "Iteration =  11  f(x) =  2.658685606583504\n",
            "Iteration =  12  f(x) =  2.658685606583504\n",
            "Iteration =  13  f(x) =  2.658685606583504\n",
            "Iteration =  14  f(x) =  2.658685606583504\n",
            "Iteration =  15  f(x) =  1.646215067929735\n",
            "Iteration =  16  f(x) =  1.0011049128393137\n",
            "Iteration =  17  f(x) =  0.3257104725355231\n",
            "Iteration =  18  f(x) =  0.3257104725355231\n",
            "Iteration =  19  f(x) =  0.060254289258292903\n",
            "Iteration =  20  f(x) =  0.060254289258292903\n",
            "Iteration =  21  f(x) =  0.060254289258292903\n",
            "Iteration =  22  f(x) =  0.060254289258292903\n",
            "Iteration =  23  f(x) =  0.060254289258292903\n",
            "Iteration =  24  f(x) =  0.060254289258292903\n",
            "Iteration =  25  f(x) =  0.060254289258292903\n",
            "Iteration =  26  f(x) =  0.060254289258292903\n",
            "Iteration =  27  f(x) =  0.060254289258292903\n",
            "Iteration =  28  f(x) =  0.060254289258292903\n",
            "Iteration =  29  f(x) =  0.060254289258292903\n",
            "Iteration =  30  f(x) =  0.04124687538016447\n",
            "Iteration =  31  f(x) =  0.04124687538016447\n",
            "Iteration =  32  f(x) =  0.031303726750160354\n",
            "Iteration =  33  f(x) =  0.031303726750160354\n",
            "Iteration =  34  f(x) =  0.031303726750160354\n",
            "Iteration =  35  f(x) =  0.031303726750160354\n",
            "Iteration =  36  f(x) =  0.031303726750160354\n",
            "Iteration =  37  f(x) =  0.031303726750160354\n",
            "Iteration =  38  f(x) =  0.023208506408675778\n",
            "Iteration =  39  f(x) =  0.023208506408675778\n",
            "Iteration =  40  f(x) =  0.023208506408675778\n",
            "Iteration =  41  f(x) =  0.005298951651170558\n",
            "Iteration =  42  f(x) =  0.005298951651170558\n",
            "Iteration =  43  f(x) =  0.005298951651170558\n",
            "Iteration =  44  f(x) =  0.004493390572108513\n",
            "Iteration =  45  f(x) =  0.004493390572108513\n",
            "Iteration =  46  f(x) =  0.0013602249907838093\n",
            "Iteration =  47  f(x) =  0.0013602249907838093\n",
            "Iteration =  48  f(x) =  0.0013602249907838093\n",
            "Iteration =  49  f(x) =  0.0013602249907838093\n",
            "Iteration =  50  f(x) =  0.0013602249907838093\n",
            "Iteration =  51  f(x) =  0.0013602249907838093\n",
            "Iteration =  52  f(x) =  0.0013602249907838093\n",
            "Iteration =  53  f(x) =  0.0013602249907838093\n",
            "Iteration =  54  f(x) =  0.0013602249907838093\n",
            "Iteration =  55  f(x) =  0.0013602249907838093\n",
            "Iteration =  56  f(x) =  0.0013602249907838093\n",
            "Iteration =  57  f(x) =  0.0013602249907838093\n",
            "Iteration =  58  f(x) =  0.0013602249907838093\n",
            "Iteration =  59  f(x) =  0.0013602249907838093\n",
            "Iteration =  60  f(x) =  0.00048755050145077306\n",
            "Iteration =  61  f(x) =  0.00048755050145077306\n",
            "Iteration =  62  f(x) =  0.00046471849926676967\n",
            "Iteration =  63  f(x) =  0.00029176545482245686\n",
            "Iteration =  64  f(x) =  0.00016992275914207156\n",
            "Iteration =  65  f(x) =  0.00016992275914207156\n",
            "Iteration =  66  f(x) =  0.00016992275914207156\n",
            "Iteration =  67  f(x) =  0.00016992275914207156\n",
            "Iteration =  68  f(x) =  0.00016992275914207156\n",
            "Iteration =  69  f(x) =  0.00016234527748482108\n",
            "Iteration =  70  f(x) =  0.00016234527748482108\n",
            "Iteration =  71  f(x) =  0.00016234527748482108\n",
            "Iteration =  72  f(x) =  0.00016234527748482108\n",
            "Iteration =  73  f(x) =  4.654535507997437e-05\n",
            "Iteration =  74  f(x) =  4.654535507997437e-05\n",
            "Iteration =  75  f(x) =  4.654535507997437e-05\n",
            "Iteration =  76  f(x) =  4.654535507997437e-05\n",
            "Iteration =  77  f(x) =  4.654535507997437e-05\n",
            "Iteration =  78  f(x) =  4.654535507997437e-05\n",
            "Iteration =  79  f(x) =  4.654535507997437e-05\n",
            "Iteration =  80  f(x) =  4.654535507997437e-05\n",
            "Iteration =  81  f(x) =  4.654535507997437e-05\n",
            "Iteration =  82  f(x) =  4.654535507997437e-05\n",
            "Iteration =  83  f(x) =  1.5520288578318997e-05\n",
            "Iteration =  84  f(x) =  1.5520288578318997e-05\n",
            "Iteration =  85  f(x) =  1.5520288578318997e-05\n",
            "Iteration =  86  f(x) =  1.5520288578318997e-05\n",
            "Iteration =  87  f(x) =  1.5520288578318997e-05\n",
            "Iteration =  88  f(x) =  1.5520288578318997e-05\n",
            "Iteration =  89  f(x) =  1.5520288578318997e-05\n",
            "Iteration =  90  f(x) =  1.5520288578318997e-05\n",
            "Iteration =  91  f(x) =  1.0727302005353323e-05\n",
            "Iteration =  92  f(x) =  1.0727302005353323e-05\n",
            "Iteration =  93  f(x) =  1.0727302005353323e-05\n",
            "Iteration =  94  f(x) =  1.0727302005353323e-05\n",
            "Iteration =  95  f(x) =  1.0727302005353323e-05\n",
            "Iteration =  96  f(x) =  1.0727302005353323e-05\n",
            "Iteration =  97  f(x) =  1.0412031759887697e-05\n",
            "Iteration =  98  f(x) =  1.0412031759887697e-05\n",
            "Iteration =  99  f(x) =  5.811707876279826e-06\n",
            "Iteration =  100  f(x) =  5.811707876279826e-06\n",
            "Ackley → x = [-0.e+00  2.e-06] | f(x) = 5.811707876279826e-06\n"
          ]
        }
      ],
      "source": [
        "import numpy as np\n",
        "from pyMetaheuristic.algorithm import particle_swarm_optimization\n",
        "\n",
        "# ----- Objective Function -----\n",
        "def ackley(variables_values = [0, 0]):\n",
        "    x1, x2 = variables_values\n",
        "    term1  = -20.0 * np.exp(-0.2 * np.sqrt((x1**2 + x2**2) / 2))\n",
        "    term2  = -np.exp((np.cos(2 * np.pi * x1) + np.cos(2 * np.pi * x2)) / 2)\n",
        "    return term1 + term2 + 20 + np.e\n",
        "\n",
        "# ----- PSO Parameters -----\n",
        "parameters_ak = {\n",
        "    'swarm_size'  : 30,\n",
        "    'min_values'  : (-32, -32),\n",
        "    'max_values'  : ( 32,  32),\n",
        "    'iterations'  : 100,\n",
        "    'decay'       : 0,\n",
        "    'w'           : 0.7,\n",
        "    'c1'          : 1.5,\n",
        "    'c2'          : 1.5,\n",
        "    'verbose'     : True,\n",
        "    'start_init'  : None,\n",
        "    'target_value': None\n",
        "}\n",
        "\n",
        "# ----- Execution -----\n",
        "pso_ak = particle_swarm_optimization(\n",
        "            target_function = ackley,\n",
        "            **parameters_ak\n",
        "         )\n",
        "\n",
        "vars_ak = pso_ak[:-1]\n",
        "best_ak = pso_ak[-1]\n",
        "print('Ackley → x =', np.around(vars_ak, 6),\n",
        "      '| f(x) =', best_ak)"
      ]
    }
  ],
  "metadata": {
    "colab": {
      "authorship_tag": "ABX9TyN5Sf5kmwSVQpmUJ8lpEve0",
      "include_colab_link": true,
      "mount_file_id": "1UndEl4EAreEt7nXtwkG5N6fidxD-aBKm",
      "provenance": []
    },
    "kernelspec": {
      "display_name": "Python 3",
      "name": "python3"
    },
    "language_info": {
      "name": "python"
    }
  },
  "nbformat": 4,
  "nbformat_minor": 0
}
