{
  "cells": [
    {
      "cell_type": "markdown",
      "id": "f0a34b63",
      "metadata": {
        "id": "f0a34b63"
      },
      "source": [
        "# Simulated Annealing\n"
      ]
    },
    {
      "cell_type": "markdown",
      "id": "f1819183",
      "metadata": {
        "id": "f1819183"
      },
      "source": [
        "## SA - Example"
      ]
    },
    {
      "cell_type": "code",
      "execution_count": null,
      "id": "1d0ba3a1",
      "metadata": {
        "colab": {
          "base_uri": "https://localhost:8080/"
        },
        "id": "1d0ba3a1",
        "outputId": "ed27230a-28e8-45f0-b572-e621c5fee260"
      },
      "outputs": [
        {
          "name": "stdout",
          "output_type": "stream",
          "text": [
            "Collecting pyMetaheuristic\n",
            "  Downloading pyMetaheuristic-1.9.5-py3-none-any.whl.metadata (19 kB)\n",
            "Requirement already satisfied: numpy in /home/glauco/code/nio/.venv/lib/python3.12/site-packages (from pyMetaheuristic) (2.2.4)\n",
            "Collecting plotly (from pyMetaheuristic)\n",
            "  Downloading plotly-6.1.1-py3-none-any.whl.metadata (6.9 kB)\n",
            "Requirement already satisfied: scipy in /home/glauco/code/nio/.venv/lib/python3.12/site-packages (from pyMetaheuristic) (1.15.3)\n",
            "Collecting narwhals>=1.15.1 (from plotly->pyMetaheuristic)\n",
            "  Downloading narwhals-1.41.0-py3-none-any.whl.metadata (11 kB)\n",
            "Requirement already satisfied: packaging in /home/glauco/code/nio/.venv/lib/python3.12/site-packages (from plotly->pyMetaheuristic) (24.2)\n",
            "Downloading pyMetaheuristic-1.9.5-py3-none-any.whl (98 kB)\n",
            "Downloading plotly-6.1.1-py3-none-any.whl (16.1 MB)\n",
            "\u001b[2K   \u001b[38;2;114;156;31m━━━━━━━━━━━━━━━━━━━━━━━━━━━━━━━━━━━━━━━━\u001b[0m \u001b[32m16.1/16.1 MB\u001b[0m \u001b[31m9.9 MB/s\u001b[0m eta \u001b[36m0:00:00\u001b[0m\u001b[36m0:00:01\u001b[0mm eta \u001b[36m0:00:01\u001b[0m\n",
            "\u001b[?25hDownloading narwhals-1.41.0-py3-none-any.whl (357 kB)\n",
            "Installing collected packages: narwhals, plotly, pyMetaheuristic\n",
            "\u001b[2K   \u001b[38;2;114;156;31m━━━━━━━━━━━━━━━━━━━━━━━━━━━━━━━━━━━━━━━━\u001b[0m \u001b[32m3/3\u001b[0m [pyMetaheuristic]━━\u001b[0m \u001b[32m2/3\u001b[0m [pyMetaheuristic]\n",
            "\u001b[1A\u001b[2KSuccessfully installed narwhals-1.41.0 plotly-6.1.1 pyMetaheuristic-1.9.5\n"
          ]
        }
      ],
      "source": [
        "!pip install pyMetaheuristic"
      ]
    },
    {
      "cell_type": "markdown",
      "id": "791a5082",
      "metadata": {
        "id": "791a5082"
      },
      "source": [
        "### Required Libraries\n"
      ]
    },
    {
      "cell_type": "code",
      "execution_count": 2,
      "id": "d76c0708",
      "metadata": {
        "id": "d76c0708"
      },
      "outputs": [],
      "source": [
        "import numpy as np\n",
        "import matplotlib.pyplot as plt"
      ]
    },
    {
      "cell_type": "markdown",
      "id": "a4cf1421",
      "metadata": {
        "id": "a4cf1421"
      },
      "source": [
        "### Target Function: Easom Function\n"
      ]
    },
    {
      "cell_type": "markdown",
      "id": "a8f195fd",
      "metadata": {
        "id": "a8f195fd"
      },
      "source": [
        "A Easom function is a multimodal function whose global minimum is $f(\\pi, \\pi) = -1$.\n"
      ]
    },
    {
      "cell_type": "code",
      "execution_count": 3,
      "id": "f48ab5b0",
      "metadata": {
        "id": "f48ab5b0"
      },
      "outputs": [],
      "source": [
        "def easom(variables_values=[0, 0]):\n",
        "    x1, x2 = variables_values\n",
        "    return -np.cos(x1) * np.cos(x2) * np.exp(-(x1 - np.pi)**2 - (x2 - np.pi)**2)"
      ]
    },
    {
      "cell_type": "markdown",
      "id": "3d6337f1",
      "metadata": {
        "id": "3d6337f1"
      },
      "source": [
        "### Approach 2: pyMetaheuristic Library"
      ]
    },
    {
      "cell_type": "markdown",
      "id": "434ee864",
      "metadata": {
        "id": "434ee864"
      },
      "source": [
        "Library Imports\n",
        "\n",
        "Available at: [https://github.com/Valdecy/pyMetaheuristic](https://github.com/Valdecy/pyMetaheuristic)"
      ]
    },
    {
      "cell_type": "code",
      "execution_count": 17,
      "id": "8721eb69",
      "metadata": {
        "id": "8721eb69"
      },
      "outputs": [],
      "source": [
        "from pyMetaheuristic.algorithm import simulated_annealing"
      ]
    },
    {
      "cell_type": "markdown",
      "id": "3a76f39b",
      "metadata": {
        "id": "3a76f39b"
      },
      "source": [
        "Library SA Parameters"
      ]
    },
    {
      "cell_type": "markdown",
      "id": "f2466b6c",
      "metadata": {},
      "source": [
        "* **`min_values`/`max_values`**: Define the search domain per dimension.\n",
        "* **`alpha`**: Closer to 1 → slower cooling (more exploration).\n",
        "* **`mu`, `sigma`**: Gaussian step size; you can tune exploration radius.\n",
        "* **`temperature_iterations`**: Number of proposals at each $T$.\n",
        "* **`initial_temperature`/`final_temperature`**: Control the overall runtime and convergence precision.\n",
        "* **`verbose`**: If `True`, prints best fitness at each temperature."
      ]
    },
    {
      "cell_type": "code",
      "execution_count": 18,
      "id": "c3150027",
      "metadata": {
        "id": "c3150027"
      },
      "outputs": [],
      "source": [
        "parameters = {\n",
        "    'min_values':            (li, li),\n",
        "    'max_values':            (ls, ls),\n",
        "    'alpha':                 alpha,\n",
        "    'mu':                    0,\n",
        "    'sigma':                 1,\n",
        "    'temperature_iterations':inner_iters,\n",
        "    'initial_temperature':   T0,\n",
        "    'final_temperature':     Tf,\n",
        "    'verbose':               True,\n",
        "    'start_init':            None,\n",
        "    'target_value':          None\n",
        "}\n"
      ]
    },
    {
      "cell_type": "markdown",
      "id": "dcaf50e1",
      "metadata": {
        "id": "dcaf50e1"
      },
      "source": [
        "Run Library SA"
      ]
    }
  ],
  "metadata": {
    "colab": {
      "provenance": []
    },
    "kernelspec": {
      "display_name": ".venv",
      "language": "python",
      "name": "python3"
    },
    "language_info": {
      "codemirror_mode": {
        "name": "ipython",
        "version": 3
      },
      "file_extension": ".py",
      "mimetype": "text/x-python",
      "name": "python",
      "nbconvert_exporter": "python",
      "pygments_lexer": "ipython3",
      "version": "3.12.3"
    }
  },
  "nbformat": 4,
  "nbformat_minor": 5
}
