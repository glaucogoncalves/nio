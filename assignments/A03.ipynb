{
  "cells": [
    {
      "cell_type": "markdown",
      "metadata": {
        "id": "D74LATdGzPCc"
      },
      "source": [
        "# Team\n",
        "\n",
        "<a target=\"_blank\" href=\"https://colab.research.google.com/github/glaucogoncalves/nio/blob/main/assignments/A03.ipynb\"> <img src=\"https://colab.research.google.com/assets/colab-badge.svg\" alt=\"Open In Colab\"/></a>\n",
        "\n",
        "List your names here"
      ]
    },
    {
      "cell_type": "markdown",
      "metadata": {},
      "source": [
        "# Attention\n",
        "\n",
        "Solve the problem below. Show the problem model and solution using ```pyomo``` and the GLPK or COIN-OR solvers.\n",
        "\n",
        "To see how to write optimization models in colab, look for examples in the colab of the Integer Linear Programming class.\n",
        "\n",
        "At the end, send your colab file (.ipynb) via SIGAA."
      ]
    },
    {
      "cell_type": "markdown",
      "metadata": {},
      "source": [
        "# Problem 1"
      ]
    },
    {
      "cell_type": "markdown",
      "metadata": {
        "id": "JYl6W3FS0n1K"
      },
      "source": [
        "A large supermarket chain in the UK needs to build warehouses for a set of supermarkets it is opening in Northern England. The locations of the supermarkets have been identified, but the locations of the warehouses have yet to be determined.\n",
        "\n",
        "Several good candidate locations for the warehouses have been identified, but decisions must be made regarding how many warehouses to open and at which candidate locations to build them. Moreover, each supermarket has an specific demand that must be met by the warehouses. If one warehouse is not sufficient to meet the demand, other warehouses can chosen to supply the supermarket.\n",
        "\n",
        "Opening many warehouses would be advantageous as this would reduce the average distance a truck has to drive from the warehouse to the supermarket, and hence reduce the delivery cost. However, opening a warehouse has a fixed cost associated with it.\n",
        "\n",
        "Our goal is **to find the optimal tradeoff between delivery costs and the costs of building new facilities**.\n",
        "\n",
        "Below is the set of supermarkets. The coordinates and demand of each supermarket are provided in the following table.\n",
        "\n",
        "| <i></i> | Coordinates | Demand |\n",
        "| --- | --- | --- | \n",
        "| Supermarket 1 | (0,1.5) | 16,000 |\n",
        "| Supermarket 2 | (2.5,1.2) | 18,000 |\n",
        "| Supermarket 3 | (4,4) | 12,000 |\n",
        "| Supermarket 3 | (1.0,1.3) | 17,000 |\n",
        "| Supermarket 3 | (1.5,2.2) | 20,000 |\n",
        "\n",
        "The following table shows the coordinates of the candidate warehouse sites, the fixed cost of building the warehouse in millions dollar, and its respective capacity.\n",
        "\n",
        "| <i></i> | coordinates | fixed cost | Capacity |\n",
        "| --- | --- |  --- | --- |\n",
        "| Warehouse 1 | (0,0) | 3 | 30,000 |\n",
        "| Warehouse 2 | (0,1) | 2 | 10,000 |\n",
        "| Warehouse 3 | (0,2) | 3 | 12,000 |\n",
        "| Warehouse 4 | (1,0) | 1 | 8,000 |\n",
        "| Warehouse 5 | (1,1) | 3 | 15,000 |\n",
        "| Warehouse 6 | (1,2) | 3 | 22,000 |\n",
        "| Warehouse 7 | (2,0) | 4 | 10,000 |\n",
        "| Warehouse 8 | (2,1) | 3 | 30,000 | \n",
        "| Warehouse 9 | (2,2) | 2 | 20,000 |\n",
        "\n",
        "The transport cost is one million dollar per kilometer."
      ]
    }
  ],
  "metadata": {
    "colab": {
      "provenance": []
    },
    "kernelspec": {
      "display_name": "Python 3",
      "name": "python3"
    },
    "language_info": {
      "name": "python"
    }
  },
  "nbformat": 4,
  "nbformat_minor": 0
}
