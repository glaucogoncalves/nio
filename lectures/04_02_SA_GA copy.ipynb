{
  "cells": [
    {
      "cell_type": "markdown",
      "id": "f0a34b63",
      "metadata": {
        "id": "f0a34b63"
      },
      "source": [
        "# Simulated Annealing\n"
      ]
    },
    {
      "cell_type": "markdown",
      "id": "78d3ff71",
      "metadata": {
        "id": "78d3ff71"
      },
      "source": [
        "## Introduction and Context"
      ]
    },
    {
      "cell_type": "markdown",
      "id": "02193303",
      "metadata": {
        "id": "02193303"
      },
      "source": [
        "**Simulated Annealing (SA)** is a global optimization metaheuristic first proposed by **Kirkpatrick, Gelatt & Vecchi in 1983**. It is inspired by the  **thermodynamic process of metal annealing**. In metallurgy, annealing involves heating a material to high temperatures and then gradually cooling it to reduce defects in its crystalline structure, ultimately reaching a minimum-energy state. Analogously, SA searches for optimal solutions in complex problems by allowing stochastic \"moves\" that can temporarily accept worse solutions, thus avoiding premature convergence to local minima.\n",
        "\n",
        "### Physical Mechanism vs. Algorithm\n",
        "\n",
        "* **Initial Heating**:\n",
        "  In physical annealing, high temperatures allow atoms to move freely and reorganize.\n",
        "  In SA, a **high initial temperature** $(T_0)$ enables the acceptance of higher-cost solutions $(\\Delta f > 0)$, promoting exploration of distant regions in the search space.\n",
        "\n",
        "* **Controlled Cooling**:\n",
        "  In physical annealing, slow cooling $(T \\to 0)$ allows atoms to stabilize into low-energy configurations.\n",
        "  In SA, as $T$ decreases, the algorithm becomes more selective, favoring better solutions $(\\Delta f \\leq 0)$ and refining the search.\n",
        "\n",
        "\n",
        "**Table 1** maps thermodynamic concepts to optimization:  \n",
        "\n",
        "| Thermodynamics         | Optimization               |  \n",
        "|------------------------|---------------------------|  \n",
        "| System States          | Feasible Solutions        |  \n",
        "| Energy                 | Cost $f(x)$               |  \n",
        "| State Change           | Neighborhood Structure    |  \n",
        "| Temperature (\\(T\\))    | Exploration Control       |  \n",
        "| Frozen State           | Heuristic Solution        |  \n",
        "\n",
        "**Source:** Dowsland (1995)."
      ]
    },
    {
      "cell_type": "markdown",
      "id": "cba70b1e",
      "metadata": {
        "id": "cba70b1e"
      },
      "source": [
        "## Theoretical Foundations"
      ]
    },
    {
      "cell_type": "markdown",
      "id": "92ab7ed8",
      "metadata": {
        "id": "92ab7ed8"
      },
      "source": [
        "### Boltzmann Distribution and Acceptance Criterion  "
      ]
    },
    {
      "cell_type": "markdown",
      "id": "53b8eaa6",
      "metadata": {
        "id": "53b8eaa6"
      },
      "source": [
        "The basic idea of the SA algorithm is to use random search in terms of a Markov chain, which <u>not only accepts changes that improve the objective function but also keeps some changes that are not ideal</u>. \n",
        "\n",
        "SA’s theoretical basis lies in the **Boltzmann distribution** from statistical mechanics, which describes the probability of a thermodynamic system occupying a state with energy $E$ at temperature $T$:\n",
        "\n",
        "$$\n",
        "P(E) \\propto e^{E / (k_B T)},\n",
        "$$\n",
        "\n",
        "where $k_B$ is the Boltzmann constant. This probability is also called **transition probability**.\n",
        "\n",
        "In SA, this distribution is adapted to define the **acceptance probability** of worse solutions. Considerind $\\Delta f = f(x_{\\text{new}}) - f(x_{\\text{current}})$, the probability $p(\\Delta f, T)$ is defined as \n",
        "\n",
        "$$\n",
        "p(\\Delta f, T) = \\begin{cases}\n",
        "      1  & \\Delta f \\leq 0 \\\\\n",
        "      e^{-\\Delta f / T} & \\Delta f \\gt 0\n",
        "\\end{cases}\n",
        "$$\n",
        "\n",
        "* **Interpretation**:\n",
        "\n",
        "  * If $\\Delta f \\leq 0$ (better solution), then $p = 1$: the new solution is always accepted.\n",
        "  * If $\\Delta f > 0$ (worse solution), $p$ decays exponentially with $T$.\n",
        "  * A higher temperature $T$ increases the probability of accepting worse solutions, promoting **exploration** in the early stages of the search."
      ]
    }
  ],
  "metadata": {
    "colab": {
      "provenance": []
    },
    "kernelspec": {
      "display_name": ".venv",
      "language": "python",
      "name": "python3"
    },
    "language_info": {
      "codemirror_mode": {
        "name": "ipython",
        "version": 3
      },
      "file_extension": ".py",
      "mimetype": "text/x-python",
      "name": "python",
      "nbconvert_exporter": "python",
      "pygments_lexer": "ipython3",
      "version": "3.12.3"
    }
  },
  "nbformat": 4,
  "nbformat_minor": 5
}
