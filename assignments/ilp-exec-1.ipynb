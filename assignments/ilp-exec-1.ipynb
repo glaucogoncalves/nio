{
  "cells": [
    {
      "cell_type": "markdown",
      "metadata": {
        "id": "D74LATdGzPCc"
      },
      "source": [
        "# Team\n",
        "\n",
        "<a target=\"_blank\" href=\"https://colab.research.google.com/github/glaucogoncalves/nio/blob/main/assignments/ilp-exec-1.ipynb\"> <img src=\"https://colab.research.google.com/assets/colab-badge.svg\" alt=\"Open In Colab\"/></a>\n",
        "\n",
        "Please list student names here"
      ]
    },
    {
      "cell_type": "markdown",
      "metadata": {},
      "source": [
        "# Attention, please!\n",
        "\n",
        "Solve the problems below. Show the problem model and the solution using ```pyomo``` and the GLPK or COIN-OR solvers.\n",
        "\n",
        "To see how to write optimization models in colab, look for examples in the Linear Programming class colab.\n",
        "\n",
        "Please send your Colab file (.ipynb) in SIGAA."
      ]
    },
    {
      "cell_type": "markdown",
      "metadata": {},
      "source": [
        "# Problem 1"
      ]
    },
    {
      "cell_type": "markdown",
      "metadata": {
        "id": "JYl6W3FS0n1K"
      },
      "source": [
        "A large supermarket chain in the UK needs to build warehouses for a set of supermarkets it is opening in Northern England. The locations of the supermarkets have been identified, but the locations of the warehouses have yet to be determined.\n",
        "\n",
        "Several good candidate locations for the warehouses have been identified, but decisions must be made regarding how many warehouses to open and at which candidate locations to build them. Moreover, each supermarket has an specific demand that must be met by the warehouses. If one warehouse is not sufficient to meet the demand, other warehouses can chosen to supply the supermarket.\n",
        "\n",
        "Opening many warehouses would be advantageous as this would reduce the average distance a truck has to drive from the warehouse to the supermarket, and hence reduce the delivery cost. However, opening a warehouse has a fixed cost associated with it.\n",
        "\n",
        "Our goal is **to find the optimal tradeoff between delivery costs and the costs of building new facilities**.\n",
        "\n",
        "Below is the set of supermarkets. The coordinates and demand of each supermarket are provided in the following table.\n",
        "\n",
        "| <i></i> | Coordinates | Demand |\n",
        "| --- | --- | --- | \n",
        "| Supermarket 1 | (0,1.5) | 16,000 |\n",
        "| Supermarket 2 | (2.5,1.2) | 18,000 |\n",
        "| Supermarket 3 | (4,4) | 12,000 |\n",
        "| Supermarket 3 | (1.0,1.3) | 17,000 |\n",
        "| Supermarket 3 | (1.5,2.2) | 20,000 |\n",
        "\n",
        "The following table shows the coordinates of the candidate warehouse sites, the fixed cost of building the warehouse in millions dollar, and its respective capacity.\n",
        "\n",
        "| <i></i> | coordinates | fixed cost | Capacity |\n",
        "| --- | --- |  --- | --- |\n",
        "| Warehouse 1 | (0,0) | 3 | 30,000 |\n",
        "| Warehouse 2 | (0,1) | 2 | 10,000 |\n",
        "| Warehouse 3 | (0,2) | 3 | 12,000 |\n",
        "| Warehouse 4 | (1,0) | 1 | 8,000 |\n",
        "| Warehouse 5 | (1,1) | 3 | 15,000 |\n",
        "| Warehouse 6 | (1,2) | 3 | 22,000 |\n",
        "| Warehouse 7 | (2,0) | 4 | 10,000 |\n",
        "| Warehouse 8 | (2,1) | 3 | 30,000 | \n",
        "| Warehouse 9 | (2,2) | 2 | 20,000 |\n",
        "\n",
        "The transport cost is one million dollar per kilometer."
      ]
    },
    {
      "cell_type": "markdown",
      "metadata": {},
      "source": [
        "# Problem 2"
      ]
    },
    {
      "cell_type": "markdown",
      "metadata": {},
      "source": [
        "FFB fresh fruit business mixes apples, peaches, and nectarines to make three different types of baskets for local market. Each basket contains approximately 5 kg fruits. The content of three types of baskets is specified as follows:\n",
        "\n",
        "|Basket Type|Apple|Peach|Nectarine|\n",
        "|--|--|--|--|\n",
        "|1|At least 30%|At most 20%|-|\n",
        "|2|-|At most 40%|At least 20%|\n",
        "|3|At least 20%|-|At most 30%|\n",
        "\n",
        "FFB purchases apple at a cost of $1.00/kg, peach $1.50/kg, and nectarine $1.80/kg, and sells type-1 basket at $2.25/kg, type-2 basket $3.00/kg, and type-3 basket $2.60/kg. The daily supply of fruit is limited to 60 kg of apples, 70 kg of peaches, and 50 kg of nectarines.  FFB is able to sell all the fruit baskets they prepare for a given day.\n",
        "\n",
        "Formulate an LP model to determine how the fruit be mixed in order to maximize the profit."
      ]
    }
  ],
  "metadata": {
    "colab": {
      "provenance": []
    },
    "kernelspec": {
      "display_name": "Python 3",
      "name": "python3"
    },
    "language_info": {
      "name": "python"
    }
  },
  "nbformat": 4,
  "nbformat_minor": 0
}
