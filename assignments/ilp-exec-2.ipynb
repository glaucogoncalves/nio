{
  "cells": [
    {
      "cell_type": "markdown",
      "metadata": {
        "id": "ND3BcRWzYgIp"
      },
      "source": [
        "# Team\n",
        "\n",
        "<a target=\"_blank\" href=\"https://colab.research.google.com/github/glaucogoncalves/nio/blob/main/assignments/ilp-exec-2.ipynb\"> <img src=\"https://colab.research.google.com/assets/colab-badge.svg\" alt=\"Open In Colab\"/></a>\n",
        "\n",
        "Please list student names here"
      ]
    },
    {
      "cell_type": "markdown",
      "metadata": {
        "id": "Ns0bu8NRPYaf"
      },
      "source": [
        "# Attention, please!\n",
        "\n",
        "Solve the problems below. Show the problem model and the solution using ```pyomo``` and the GLPK or COIN-OR solvers.\n",
        "\n",
        "To see how to write optimization models in colab, look for examples in the Integer Linear Programming class colab.\n",
        "\n",
        "Please send your Colab file (.ipynb) in SIGAA."
      ]
    },
    {
      "cell_type": "markdown",
      "metadata": {},
      "source": [
        "# Problem 1"
      ]
    },
    {
      "cell_type": "markdown",
      "metadata": {},
      "source": [
        "FFB fresh fruit business mixes apples, peaches, and nectarines to make three different types of baskets for local market. Each basket contains approximately 5 kg fruits. The content of three types of baskets is specified as follows:\n",
        "\n",
        "|Basket Type|Apple|Peach|Nectarine|\n",
        "|--|--|--|--|\n",
        "|1|At least 30%|At most 20%|-|\n",
        "|2|-|At most 40%|At least 20%|\n",
        "|3|At least 20%|-|At most 30%|\n",
        "\n",
        "FFB purchases apple at a cost of $1.00/kg, peach $1.50/kg, and nectarine $1.80/kg, and sells type-1 basket at $2.25/kg, type-2 basket $3.00/kg, and type-3 basket $2.60/kg. The daily supply of fruit is limited to 60 kg of apples, 70 kg of peaches, and 50 kg of nectarines.  FFB is able to sell all the fruit baskets they prepare for a given day.\n",
        "\n",
        "Formulate an ILP model to determine how the fruit be mixed in order to maximize the profit. Solve it."
      ]
    },
    {
      "cell_type": "markdown",
      "metadata": {
        "id": "dfZdDAhBUHxv"
      },
      "source": [
        "# Problem 2"
      ]
    },
    {
      "cell_type": "markdown",
      "metadata": {
        "id": "2V97ASWwVazL"
      },
      "source": [
        "A military base needs to deliver essential aid to three disaster areas (D1, D2, and D3) using a mixed fleet of four available transport aircraft (A1, A2, A3, and A4). The primary objective is to minimize the cost of the overall mission, without exceeding the aircraft capacity and assuming that each aircraft can perform several flights.\n",
        "\n",
        "There is an amount of 350 tons of cargo to be delivered. The airplane characteristics is provided below:\n",
        "\n",
        "| Aircraft | Cargo Capacity (tons) | Cost per Flight (USD)\n",
        "| ---|---|---|\n",
        "|A1|18|5000|\n",
        "|A2|50|10000|\n",
        "|A3|24|7000|\n",
        "|A4|70|15000|\n",
        "\n",
        "Following is the disaster area demands:\n",
        "\n",
        "|Disaster Area | Cargo Required (tons) |\n",
        "|---|---|\n",
        "|D1|50|\n",
        "|D2|200|\n",
        "|D3|100|\n",
        "\n",
        "Formulate an ILP model and solve it."
      ]
    },
    {
      "cell_type": "markdown",
      "metadata": {},
      "source": [
        "# Problem 3"
      ]
    },
    {
      "cell_type": "markdown",
      "metadata": {},
      "source": [
        "A large supermarket chain in the UK needs to build warehouses for a set of supermarkets it is opening in Northern England. The locations of the supermarkets have been identified, but the locations of the warehouses have yet to be determined.\n",
        "\n",
        "Several good candidate locations for the warehouses have been identified, but decisions must be made regarding how many warehouses to open and at which candidate locations to build them. Moreover, each supermarket has an specific demand that must be met by the warehouses. If one warehouse is not sufficient to meet the demand, other warehouses can chosen to supply the supermarket.\n",
        "\n",
        "Opening many warehouses would be advantageous as this would reduce the average distance a truck has to drive from the warehouse to the supermarket, and hence reduce the delivery cost. However, opening a warehouse has a fixed cost associated with it.\n",
        "\n",
        "Our goal is **to find the optimal tradeoff between delivery costs and the costs of building new facilities**.\n",
        "\n",
        "Below is the set of supermarkets. The coordinates and demand of each supermarket are provided in the following table.\n",
        "\n",
        "| <i></i> | Coordinates | Demand |\n",
        "| --- | --- | --- | \n",
        "| Supermarket 1 | (0,1.5) | 16,000 |\n",
        "| Supermarket 2 | (2.5,1.2) | 18,000 |\n",
        "| Supermarket 3 | (4,4) | 12,000 |\n",
        "| Supermarket 3 | (1.0,1.3) | 17,000 |\n",
        "| Supermarket 3 | (1.5,2.2) | 20,000 |\n",
        "\n",
        "The following table shows the coordinates of the candidate warehouse sites, the fixed cost of building the warehouse in millions dollar, and its respective capacity.\n",
        "\n",
        "| <i></i> | coordinates | fixed cost | Capacity |\n",
        "| --- | --- |  --- | --- |\n",
        "| Warehouse 1 | (0,0) | 3 | 30,000 |\n",
        "| Warehouse 2 | (0,1) | 2 | 10,000 |\n",
        "| Warehouse 3 | (0,2) | 3 | 12,000 |\n",
        "| Warehouse 4 | (1,0) | 1 | 8,000 |\n",
        "| Warehouse 5 | (1,1) | 3 | 15,000 |\n",
        "| Warehouse 6 | (1,2) | 3 | 22,000 |\n",
        "| Warehouse 7 | (2,0) | 4 | 10,000 |\n",
        "| Warehouse 8 | (2,1) | 3 | 30,000 | \n",
        "| Warehouse 9 | (2,2) | 2 | 20,000 |\n",
        "\n",
        "The transport cost is one million dollar per kilometer.\n",
        "\n",
        "Formulate an ILP model and solve it."
      ]
    }
  ],
  "metadata": {
    "colab": {
      "collapsed_sections": [
        "uQ_1hjFjShJW",
        "3J3qyDVNSuN7",
        "dfZdDAhBUHxv",
        "fnVGuKQzWLMK"
      ],
      "provenance": []
    },
    "kernelspec": {
      "display_name": "Python 3",
      "name": "python3"
    },
    "language_info": {
      "name": "python"
    }
  },
  "nbformat": 4,
  "nbformat_minor": 0
}
