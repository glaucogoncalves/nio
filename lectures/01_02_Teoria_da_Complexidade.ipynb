{
  "cells": [
    {
      "cell_type": "markdown",
      "metadata": {
        "id": "I0NotuZLAzLe"
      },
      "source": [
        "# Complexidade de problemas\n",
        "\n",
        "<a target=\"_blank\" href=\"https://colab.research.google.com/github/glaucogoncalves/nio/blob/main/lectures/01_02_Teoria_da_Complexidade.ipynb\"> <img src=\"https://colab.research.google.com/assets/colab-badge.svg\" alt=\"Open In Colab\"/></a>"
      ]
    },
    {
      "cell_type": "markdown",
      "metadata": {
        "id": "MOrunJ1dA1GL"
      },
      "source": [
        "* Problemas possuem complexidades diferentes. Por isso existem classes de complexidades.\n",
        "* Da teoria de algoritmos, sabemos que algoritmos podem ter sua complexidade estimada (ex: notação big-O)\n",
        "* Usamos essa estimativa para **classificar os problemas**\n",
        "\n",
        "Complexity Zoo: https://complexityzoo.net\n"
      ]
    },
    {
      "cell_type": "markdown",
      "metadata": {
        "id": "Aipz2NgnB9Ky"
      },
      "source": [
        "## Tipos de problemas computacionais"
      ]
    },
    {
      "cell_type": "markdown",
      "metadata": {
        "id": "U5mMJjdECFhy"
      },
      "source": [
        "Problemas de interesse da computação\n",
        "\n",
        "* Problema de decisão\n",
        "  * Verifique se uma certa propriedade existe\n",
        "  * Saída do tipo SIM/NÃO, EXISTE/NÃO EXISTE...\n",
        "* Problema de busca\n",
        "  * Encontrar uma solução que atenda um requisito do problema\n",
        "* Problema de otimização\n",
        "  * Encontrar uma solução que minimiza (ou maximiza) alguma propriedade no contexto do problema\n",
        "\n",
        "Há correlação entre estes tipos de problemas.\n",
        "\n",
        "**Exemplo**: <u>menor caminho</u>.\n",
        "* Otimização: Encontre o menor caminho.\n",
        "* Busca: Dado o custo do menor caminho, encontre um caminho com este custo.\n",
        "* Decisão: Dado o custo do menor caminho, existe um caminho com este custo.\n",
        "\n",
        "**Exemplo**: <u>Soma de subconjunto</u>.\n",
        "* Decisão: Existe um subconjunto cuja soma é X?\n",
        "* Busca: Encontre um subconjunto cuja soma é X.\n",
        "* Otimização: Encontre um subconjunto cuja soma é X e que use o menor número de elementos.\n",
        "\n",
        "**Exercício**: encontrar um algoritmo que solucione a versão de otimização da soma de subconjunto."
      ]
    },
    {
      "cell_type": "markdown",
      "metadata": {
        "id": "axRbOexQCsED"
      },
      "source": [
        "### Solução"
      ]
    },
    {
      "cell_type": "code",
      "execution_count": null,
      "metadata": {
        "colab": {
          "base_uri": "https://localhost:8080/"
        },
        "id": "dImoO57ICthJ",
        "outputId": "227058e1-4fba-45c9-94ff-dbbd522770a2"
      },
      "outputs": [
        {
          "name": "stdout",
          "output_type": "stream",
          "text": [
            "O subconjunto que soma 15 é [7, 8]\n"
          ]
        }
      ],
      "source": [
        "def powerset(C):\n",
        "    powerset = [[]]\n",
        "    for e in C:\n",
        "        subsets = []\n",
        "        for subset in powerset:\n",
        "            subsets = subsets + [subset + [e]]\n",
        "        powerset = powerset + subsets\n",
        "    return powerset\n",
        "\n",
        "def subsetsum(C,X):\n",
        "    \"\"\"\n",
        "        Faça o código de um algoritmo força bruta para solucionar a versão de\n",
        "        de otimização do problema da soma de subconjunto\n",
        "\n",
        "        C: lista representando o conjunto de inteiros\n",
        "        X: o número inteiro\n",
        "        Retorno: Deve ser uma lista representando o menor subconjunto de C cuja\n",
        "        soma é X\n",
        "    \"\"\"\n",
        "    solucao = [0]*(len(C)+1)   #Inicializa com uma solução inválida com tamanho maior que C\n",
        "    PC = powerset(C)           #Cria o conjunto das partes de C\n",
        "    for subc in PC:            #Itera sobre cada elemento do conjunto das partes (força bruta)\n",
        "      if sum(subc) == X and len(subc) < len(solucao): # checa se subconjunto atende à soma & checa se a solução é melhor\n",
        "        solucao = subc\n",
        "    if len(solucao) == len(C)+1: #checa se encontrou solução\n",
        "      return None\n",
        "    else:\n",
        "      return solucao\n",
        "\n",
        "S = range(10)\n",
        "Sum = 15\n",
        "subset = subsetsum(S,Sum)\n",
        "print(\"O subconjunto que soma \"+str(Sum)+\" é \"+str(subset))"
      ]
    },
    {
      "cell_type": "markdown",
      "metadata": {
        "id": "nnyL2tP1A-Xi"
      },
      "source": [
        "## Classe P"
      ]
    },
    {
      "cell_type": "markdown",
      "metadata": {
        "id": "R4SChY_WBN3G"
      },
      "source": [
        "* Para alguns problemas conhecemos algoritmos de tempo polinomial\n",
        "* Se há algoritmo de tempo polinomial que encontra solução para o problema, então o problema pertence à **P**\n",
        "  * Formalmente, só problemas de decisão estão em **P**, mas \"na prática\" acabamos aplicando dizendo que um problema de otimização pertence à **P**, por analogia\n",
        "* Exemplo: menor caminho (Algoritmo de Djikstra), ordenação (diferentes algoritmos), buscas em árvore (busca em profundidade e largura)"
      ]
    },
    {
      "cell_type": "markdown",
      "metadata": {
        "id": "ds5lODzUBEsY"
      },
      "source": [
        "##Classe NP"
      ]
    },
    {
      "cell_type": "markdown",
      "metadata": {
        "id": "lksVQ8IWBIbq"
      },
      "source": [
        "* Verificar se uma dada solução é realmente solução do problema, pode ser \"mais fácil\" do que encontrar a solução\n",
        "   * **Verificador**: verificador para um problema é um algoritmo que determina se uma dada solução é realmente solução do problema\n",
        "\n",
        "* Um problema é polinomialmente verificável se o verificador roda em tempo polinomial.\n",
        "* **NP** é a classe de linguagens que têm verificadores de tempo polinomial\n",
        "\n",
        "Exemplos:\n",
        "\n",
        "* SAT\n",
        " * O que é?\n",
        " * Verificador polinomial\n",
        "\n",
        "* SOMA-SUBC\n",
        " * O que é?\n",
        " * Algoritmo da força bruta\n",
        " * Verificador polinomial\n",
        "\n",
        "* Força bruta pode resolver vários problemas, mas é ineficiente. Existem problemas onde a força bruta é a única alternativa. Não conhecemos algoritmos de tempo polinomial."
      ]
    },
    {
      "cell_type": "markdown",
      "metadata": {
        "id": "U3g1gy--UjxX"
      },
      "source": [
        "# P vs NP"
      ]
    },
    {
      "cell_type": "markdown",
      "metadata": {
        "id": "rpThOT9sUpmZ"
      },
      "source": [
        "**Definições**\n",
        "* NP é a classe de problemas cuja solução pode ser verificada em tempo polinomial (rapidamente).\n",
        "* P é a classe de problemas cuja solução pode ser decidida em tempo polinomial (rapidamente).\n",
        "* P e NP são aplicados a problemas de decisão, propriamente\n",
        "\n",
        "**O que sabemos?**\n",
        "* Não se sabe se SOMA-SUBC está em P, não temos algoritmos que decida este problema em tempo polinomial.\n",
        "* Por outro lado, somos incapazes de provar que um problema em NP não está em P.\n",
        "* A questão de se P = NP é um dos maiores problemas não resolvidos em computação teórica e matemática.\n",
        "* Existem duas possibilidades $P = NP$ ou $P \\neq NP$."
      ]
    },
    {
      "cell_type": "markdown",
      "metadata": {
        "id": "BR_k7OH5VS-e"
      },
      "source": [
        "![image.png](data:image/png;base64,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)"
      ]
    },
    {
      "cell_type": "markdown",
      "metadata": {
        "id": "iZUeqFKRV19Y"
      },
      "source": [
        "## NP-hardness"
      ]
    },
    {
      "cell_type": "markdown",
      "metadata": {
        "id": "Jx8f6QgLVztn"
      },
      "source": [
        "**Redução**\n",
        "* O princípio da redução de problemas, permite mostrar que problemas podem ser modificados uns nos outros\n",
        " * O que é redução de A para B? Um algoritmo que sempre leva toda instância de um problema A em uma instância de B.\n",
        " * Na complexidade, gostamos de reduções em tempo polinomial.\n",
        "\n",
        "* Se A é redutível em tempo polinomial a B e $B \\in P$, então $A \\in P$."
      ]
    },
    {
      "cell_type": "markdown",
      "metadata": {
        "id": "MX7xpnJSVT09"
      },
      "source": [
        "**NP-Completude**\n",
        "* Na década de 70 Stephen Cook e Leonid Levin observaram que a complexidade de alguns problemas parece estar interligada. São os problemas NP-completos.\n",
        "\n",
        "**Definição**: Uma linguaguem B é NP-Completa se satisfaz duas condições:\n",
        "1. $B \\in NP$; e\n",
        "2. todo problema $A \\in NP$ é redutível em tempo polinomial a B.\n",
        "\n",
        "* O problema SAT é fundamental, porque Cook e Levin demonstraram que SAT é NP-Completo\n",
        "* Se B é NP-completa e B se reduz a C em tempo polinomial, então C é NP-Completa"
      ]
    },
    {
      "cell_type": "markdown",
      "metadata": {
        "id": "YHzca33lYzcX"
      },
      "source": [
        "**NP-Difícil (NP-hard)**\n",
        "* Um problema é NP-hard se todos os problemas em NP são reduzíveis a ele.\n",
        "* Problemas que não estão necessariamente em NP, mas para os quais os NP completos podem se reduzir.\n",
        "* Se um problema NP-hard pode ser resolvido em tempo polinomial então todos os problemas NP-completos podem ser resolvidos em tempo polinomial."
      ]
    },
    {
      "cell_type": "markdown",
      "metadata": {
        "id": "ged6ndUTY0xW"
      },
      "source": [
        "# E nós com isso?"
      ]
    },
    {
      "cell_type": "markdown",
      "metadata": {
        "id": "TkQnpxXxY6iK"
      },
      "source": [
        "Os problemas de interesse que vemos em otimização são, muitas das vezes, problemas NP-hard. Mas a teoria nos leva a ter dois cuidados:\n",
        "1. Nós costumamos trabalhar com a hipótese de que $P \\neq NP$, ou seja, se o problema é NP-hard vamos procurar soluções aproximadas\n",
        "2. Alguns problemas de otimização têm solução polinomial, por isso a modelagem e classificação do problema é importante"
      ]
    },
    {
      "cell_type": "markdown",
      "metadata": {
        "id": "SekqUcpubcSc"
      },
      "source": [
        "Quero saber mais! Leia\n",
        "\n",
        "* Cap 2 do livro do Xin-She Yang; ou\n",
        "* Cap 7 do livro do Sipser\n",
        "\n",
        "Yang, Xin-She. Optimization techniques and applications with examples. John Wiley & Sons, 2018.\n",
        "\n",
        "Sipser, Michael. Introdução à Teoria da Computação: Trad. 2ª ed. norte-americana. Disponível em: Minha Biblioteca, Cengage Learning Brasil, 2007.\n"
      ]
    }
  ],
  "metadata": {
    "colab": {
      "collapsed_sections": [
        "I0NotuZLAzLe",
        "nnyL2tP1A-Xi",
        "ds5lODzUBEsY",
        "U3g1gy--UjxX",
        "iZUeqFKRV19Y",
        "ged6ndUTY0xW"
      ],
      "provenance": [],
      "toc_visible": true
    },
    "kernelspec": {
      "display_name": "Python 3",
      "name": "python3"
    },
    "language_info": {
      "name": "python"
    }
  },
  "nbformat": 4,
  "nbformat_minor": 0
}
