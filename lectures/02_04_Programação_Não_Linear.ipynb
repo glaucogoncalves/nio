{
  "nbformat": 4,
  "nbformat_minor": 0,
  "metadata": {
    "colab": {
      "provenance": [],
      "collapsed_sections": [
        "HGqUDgMiDL9C",
        "wACpjFubJahK",
        "NNRa6urBDOGi",
        "-5Pz36eqChmn",
        "Qj3Bh-WT-eBO",
        "vJ65qBALQdhX",
        "C_OCOZkuJdIC",
        "kU-bpPykDoax"
      ],
      "toc_visible": true
    },
    "kernelspec": {
      "name": "python3",
      "display_name": "Python 3"
    },
    "language_info": {
      "name": "python"
    }
  },
  "cells": [
    {
      "cell_type": "markdown",
      "source": [
        "#Solver - Problema 1"
      ],
      "metadata": {
        "id": "HGqUDgMiDL9C"
      }
    },
    {
      "cell_type": "code",
      "source": [
        "!pip install -q pyomo\n",
        "!wget -N -q \"https://minlp.com/downloads/xecs/baron/current/baron-lin64.zip\"\n",
        "!unzip baron-lin64.zip"
      ],
      "metadata": {
        "id": "XPQyXBw3nSg-",
        "colab": {
          "base_uri": "https://localhost:8080/"
        },
        "outputId": "3ea257c8-5d68-4bc4-9b19-741f41013914"
      },
      "execution_count": null,
      "outputs": [
        {
          "output_type": "stream",
          "name": "stdout",
          "text": [
            "\u001b[2K     \u001b[90m━━━━━━━━━━━━━━━━━━━━━━━━━━━━━━━━━━━━━━━━\u001b[0m \u001b[32m12.7/12.7 MB\u001b[0m \u001b[31m22.0 MB/s\u001b[0m eta \u001b[36m0:00:00\u001b[0m\n",
            "\u001b[2K     \u001b[90m━━━━━━━━━━━━━━━━━━━━━━━━━━━━━━━━━━━━━━━━\u001b[0m \u001b[32m49.6/49.6 kB\u001b[0m \u001b[31m4.6 MB/s\u001b[0m eta \u001b[36m0:00:00\u001b[0m\n",
            "\u001b[?25hArchive:  baron-lin64.zip\n",
            "   creating: baron-lin64/\n",
            "  inflating: baron-lin64/README.txt  \n",
            "  inflating: baron-lin64/BARON EULA.pdf  \n",
            "  inflating: baron-lin64/baron       \n",
            "  inflating: baron-lin64/baron manual.pdf  \n",
            "   creating: baron-lin64/examples/\n",
            "  inflating: baron-lin64/examples/nlp3.bar  \n",
            "  inflating: baron-lin64/examples/robot.bar  \n",
            "  inflating: baron-lin64/examples/gear.bar  \n",
            "  inflating: baron-lin64/examples/scqp1.bar  \n",
            "  inflating: baron-lin64/examples/pool1.bar  \n",
            "  inflating: baron-lin64/examples/nlp1.bar  \n",
            "  inflating: baron-lin64/examples/milp.bar  \n",
            "  inflating: baron-lin64/examples/minlp.bar  \n",
            "  inflating: baron-lin64/examples/gear20.bar  \n",
            "  inflating: baron-lin64/examples/nlp2.bar  \n",
            "  inflating: baron-lin64/examples/iqp1.bar  \n"
          ]
        }
      ]
    },
    {
      "cell_type": "markdown",
      "source": [
        "$\\min x^2+2y^2-4x-4y+xy+120$"
      ],
      "metadata": {
        "id": "Mj636VS3DWuR"
      }
    },
    {
      "cell_type": "code",
      "source": [
        "from pyomo.environ import *\n",
        "\n",
        "# create a model\n",
        "model = ConcreteModel()\n",
        "\n",
        "# declare decision variables\n",
        "model.x = Var(domain=Reals)\n",
        "model.y = Var(domain=Reals)\n",
        "\n",
        "# declare objective\n",
        "model.obj = Objective(expr = model.x**2 + 2*model.y**2 -4*model.x -4*model.y +model.x*model.y +120, sense=minimize)\n",
        "\n",
        "model.pprint()\n",
        "\n",
        "msolver = SolverFactory('baron', executable=\"/content/baron-lin64/baron\")\n",
        "msolver.solve(model, tee=True)\n",
        "\n",
        "# display solution\n",
        "print('\\nUtilidade = ', model.obj())\n",
        "\n",
        "print('\\nDecision Variables')\n",
        "print('x = ', model.x())\n",
        "print('y = ', model.y())"
      ],
      "metadata": {
        "colab": {
          "base_uri": "https://localhost:8080/"
        },
        "id": "08AObgdhnjGw",
        "outputId": "4e3ec1ff-cb10-4afe-a4a5-28e6a0a7d524"
      },
      "execution_count": null,
      "outputs": [
        {
          "output_type": "stream",
          "name": "stdout",
          "text": [
            "2 Var Declarations\n",
            "    x : Size=1, Index=None\n",
            "        Key  : Lower : Value : Upper : Fixed : Stale : Domain\n",
            "        None :  None :  None :  None : False :  True :  Reals\n",
            "    y : Size=1, Index=None\n",
            "        Key  : Lower : Value : Upper : Fixed : Stale : Domain\n",
            "        None :  None :  None :  None : False :  True :  Reals\n",
            "\n",
            "1 Objective Declarations\n",
            "    obj : Size=1, Index=None, Active=True\n",
            "        Key  : Active : Sense    : Expression\n",
            "        None :   True : minimize : x**2 + 2*y**2 - 4*x - 4*y + x*y + 120\n",
            "\n",
            "3 Declarations: x y obj\n",
            "===========================================================================\n",
            " BARON version 23.6.23. Built: LNX-64 Fri Jun 23 12:56:02 EDT 2023\n",
            "\n",
            " BARON is a product of The Optimization Firm.\n",
            " For information on BARON, see https://minlp.com/about-baron\n",
            " No BARON license file found in user PATH.  Continuing in demo mode.\n",
            " Model size is allowable within BARON demo size.\n",
            "\n",
            " If you use this software, please cite publications from\n",
            " https://minlp.com/baron-publications, such as: \n",
            "\n",
            " Khajavirad, A. and N. V. Sahinidis,\n",
            " A hybrid LP/NLP paradigm for global optimization relaxations,\n",
            " Mathematical Programming Computation, 10, 383-421, 2018.\n",
            "===========================================================================\n",
            " This BARON run may utilize the following subsolver(s)\n",
            " For LP/MIP/QP: CLP/CBC                                         \n",
            " For NLP: IPOPT, FILTERSQP\n",
            "===========================================================================\n",
            " Starting solution is feasible with a value of   120.000          \n",
            " Doing local search\n",
            " Preprocessing found feasible solution with value 115.429\n",
            " Problem solved during preprocessing\n",
            " Lower bound is    115.428\n",
            "\n",
            " Calculating duals\n",
            "\n",
            "                         *** Normal completion ***            \n",
            "\n",
            " Wall clock time:                     0.01\n",
            " Total CPU time used:                 0.01\n",
            "\n",
            " Total no. of BaR iterations:      -1\n",
            " Best solution found at node:      -1\n",
            " Max. no. of nodes in memory:       0\n",
            " \n",
            " All done\n",
            "===========================================================================\n",
            "\n",
            "Utilidade =  115.42857142857143\n",
            "\n",
            "Decision Variables\n",
            "x =  1.7142857142857142\n",
            "y =  0.5714285714285714\n"
          ]
        }
      ]
    },
    {
      "cell_type": "markdown",
      "source": [
        "#Método do Gradiente"
      ],
      "metadata": {
        "id": "wACpjFubJahK"
      }
    },
    {
      "cell_type": "markdown",
      "source": [
        "$f(x,y) = x^2+2y^2-4x-4y+xy+120$\n",
        "\n",
        "$\\nabla f(x,y) = \\begin{bmatrix}\n",
        "2x + y -4 \\\\\n",
        "x + 4y -4\n",
        "\\end{bmatrix}$"
      ],
      "metadata": {
        "id": "b8UpWev_JahL"
      }
    },
    {
      "cell_type": "code",
      "source": [
        "import numpy as np\n",
        "\n",
        "def grad(xn):\n",
        "  x = xn.item(0)\n",
        "  y = xn.item(1)\n",
        "  dx = 2*x+y-4\n",
        "  dy = x+4*y-4\n",
        "  return np.matrix([[dx],[dy]])\n",
        "\n",
        "xn = np.matrix([[2],[2]])\n",
        "\n",
        "w = 0.1\n",
        "maxIter = 100\n",
        "\n",
        "for n in range(maxIter):\n",
        "  xn = xn - w*grad(xn)\n",
        "\n",
        "print(xn)"
      ],
      "metadata": {
        "colab": {
          "base_uri": "https://localhost:8080/"
        },
        "outputId": "0b792409-e587-407f-9ec7-8e6fa016b76b",
        "id": "iNocLFM6JahL"
      },
      "execution_count": null,
      "outputs": [
        {
          "output_type": "stream",
          "name": "stdout",
          "text": [
            "[[1.71428571]\n",
            " [0.57142857]]\n"
          ]
        }
      ]
    },
    {
      "cell_type": "markdown",
      "source": [
        "## Usando pytorch"
      ],
      "metadata": {
        "id": "chATFnQRd4V2"
      }
    },
    {
      "cell_type": "code",
      "source": [
        "# import torch library\n",
        "import torch\n",
        "import numpy as np\n",
        "\n",
        "def grad(xn):\n",
        "  x1 = xn[0]\n",
        "  y1 = xn[1]\n",
        "  x = torch.tensor(x1, requires_grad = True)\n",
        "  y = torch.tensor(y1, requires_grad = True)\n",
        "  f = x**2 + 2*y**2 - 4*x -4*y +x*y + 120\n",
        "  f.backward()\n",
        "  dx = x.grad\n",
        "  dy = y.grad\n",
        "  return np.matrix([[dx.item()],[dy.item()]])\n",
        "\n",
        "xn = np.matrix([[2.0],[2.0]])\n",
        "\n",
        "w = 0.1\n",
        "maxIter = 100\n",
        "\n",
        "for n in range(maxIter):\n",
        "  xn = xn - w*grad(xn)\n",
        "\n",
        "print(xn)"
      ],
      "metadata": {
        "colab": {
          "base_uri": "https://localhost:8080/"
        },
        "id": "fzIR8h58d-Xf",
        "outputId": "22d83ea2-ee7d-4405-aa99-1d1e860af248"
      },
      "execution_count": null,
      "outputs": [
        {
          "output_type": "stream",
          "name": "stdout",
          "text": [
            "[[1.71212706]\n",
            " [0.57232475]]\n"
          ]
        }
      ]
    },
    {
      "cell_type": "markdown",
      "source": [
        "#Método de Newton"
      ],
      "metadata": {
        "id": "NNRa6urBDOGi"
      }
    },
    {
      "cell_type": "markdown",
      "source": [
        "$f(x,y) = x^2+2y^2-4x-4y+xy+120$\n",
        "\n",
        "$\\nabla f(x,y) = \\begin{bmatrix}\n",
        "2x + y -4 \\\\\n",
        "x + 4y -4\n",
        "\\end{bmatrix}$\n",
        "\n",
        "$H = \\begin{bmatrix}\n",
        "2 & 1\\\\\n",
        "1 & 4\n",
        "\\end{bmatrix}$"
      ],
      "metadata": {
        "id": "H6uCddqEEDQi"
      }
    },
    {
      "cell_type": "code",
      "source": [
        "import numpy as np\n",
        "\n",
        "def grad(xn):\n",
        "  x = xn.item(0)\n",
        "  y = xn.item(1)\n",
        "  a1 = 2*x+y-4\n",
        "  a2 = x+4*y-4\n",
        "  return np.matrix([[a1],[a2]])\n",
        "\n",
        "H = np.matrix([[2,1],[1,4]])\n",
        "H_1 = np.linalg.inv(H)\n",
        "\n",
        "xn = np.matrix([[2],[2]])\n",
        "\n",
        "w = 0.1\n",
        "maxIter = 100\n",
        "\n",
        "for n in range(maxIter):\n",
        "  xn = xn - w*H_1*grad(xn)\n",
        "  #print(grad(xn))\n",
        "\n",
        "print(xn)"
      ],
      "metadata": {
        "colab": {
          "base_uri": "https://localhost:8080/"
        },
        "id": "G9Vc7UEsEYwt",
        "outputId": "e688c775-96e6-467b-aa1c-79aa4b4ce0c6"
      },
      "execution_count": null,
      "outputs": [
        {
          "output_type": "stream",
          "name": "stdout",
          "text": [
            "[[1.8]\n",
            " [5.4]]\n",
            "[[1.62]\n",
            " [4.86]]\n",
            "[[1.458]\n",
            " [4.374]]\n",
            "[[1.3122]\n",
            " [3.9366]]\n",
            "[[1.18098]\n",
            " [3.54294]]\n",
            "[[1.062882]\n",
            " [3.188646]]\n",
            "[[0.9565938]\n",
            " [2.8697814]]\n",
            "[[0.86093442]\n",
            " [2.58280326]]\n",
            "[[0.77484098]\n",
            " [2.32452293]]\n",
            "[[0.69735688]\n",
            " [2.09207064]]\n",
            "[[0.62762119]\n",
            " [1.88286358]]\n",
            "[[0.56485907]\n",
            " [1.69457722]]\n",
            "[[0.50837317]\n",
            " [1.5251195 ]]\n",
            "[[0.45753585]\n",
            " [1.37260755]]\n",
            "[[0.41178226]\n",
            " [1.23534679]]\n",
            "[[0.37060404]\n",
            " [1.11181211]]\n",
            "[[0.33354363]\n",
            " [1.0006309 ]]\n",
            "[[0.30018927]\n",
            " [0.90056781]]\n",
            "[[0.27017034]\n",
            " [0.81051103]]\n",
            "[[0.24315331]\n",
            " [0.72945993]]\n",
            "[[0.21883798]\n",
            " [0.65651393]]\n",
            "[[0.19695418]\n",
            " [0.59086254]]\n",
            "[[0.17725876]\n",
            " [0.53177629]]\n",
            "[[0.15953289]\n",
            " [0.47859866]]\n",
            "[[0.1435796 ]\n",
            " [0.43073879]]\n",
            "[[0.12922164]\n",
            " [0.38766491]]\n",
            "[[0.11629947]\n",
            " [0.34889842]]\n",
            "[[0.10466953]\n",
            " [0.31400858]]\n",
            "[[0.09420257]\n",
            " [0.28260772]]\n",
            "[[0.08478232]\n",
            " [0.25434695]]\n",
            "[[0.07630408]\n",
            " [0.22891225]]\n",
            "[[0.06867368]\n",
            " [0.20602103]]\n",
            "[[0.06180631]\n",
            " [0.18541893]]\n",
            "[[0.05562568]\n",
            " [0.16687703]]\n",
            "[[0.05006311]\n",
            " [0.15018933]]\n",
            "[[0.0450568]\n",
            " [0.1351704]]\n",
            "[[0.04055112]\n",
            " [0.12165336]]\n",
            "[[0.03649601]\n",
            " [0.10948802]]\n",
            "[[0.03284641]\n",
            " [0.09853922]]\n",
            "[[0.02956177]\n",
            " [0.0886853 ]]\n",
            "[[0.02660559]\n",
            " [0.07981677]]\n",
            "[[0.02394503]\n",
            " [0.07183509]]\n",
            "[[0.02155053]\n",
            " [0.06465158]]\n",
            "[[0.01939547]\n",
            " [0.05818642]]\n",
            "[[0.01745593]\n",
            " [0.05236778]]\n",
            "[[0.01571033]\n",
            " [0.047131  ]]\n",
            "[[0.0141393]\n",
            " [0.0424179]]\n",
            "[[0.01272537]\n",
            " [0.03817611]]\n",
            "[[0.01145283]\n",
            " [0.0343585 ]]\n",
            "[[0.01030755]\n",
            " [0.03092265]]\n",
            "[[0.0092768 ]\n",
            " [0.02783039]]\n",
            "[[0.00834912]\n",
            " [0.02504735]]\n",
            "[[0.0075142 ]\n",
            " [0.02254261]]\n",
            "[[0.00676278]\n",
            " [0.02028835]]\n",
            "[[0.00608651]\n",
            " [0.01825952]]\n",
            "[[0.00547785]\n",
            " [0.01643356]]\n",
            "[[0.00493007]\n",
            " [0.01479021]]\n",
            "[[0.00443706]\n",
            " [0.01331119]]\n",
            "[[0.00399336]\n",
            " [0.01198007]]\n",
            "[[0.00359402]\n",
            " [0.01078206]]\n",
            "[[0.00323462]\n",
            " [0.00970386]]\n",
            "[[0.00291116]\n",
            " [0.00873347]]\n",
            "[[0.00262004]\n",
            " [0.00786012]]\n",
            "[[0.00235804]\n",
            " [0.00707411]]\n",
            "[[0.00212223]\n",
            " [0.0063667 ]]\n",
            "[[0.00191001]\n",
            " [0.00573003]]\n",
            "[[0.00171901]\n",
            " [0.00515703]]\n",
            "[[0.00154711]\n",
            " [0.00464132]]\n",
            "[[0.0013924 ]\n",
            " [0.00417719]]\n",
            "[[0.00125316]\n",
            " [0.00375947]]\n",
            "[[0.00112784]\n",
            " [0.00338353]]\n",
            "[[0.00101506]\n",
            " [0.00304517]]\n",
            "[[0.00091355]\n",
            " [0.00274066]]\n",
            "[[0.0008222 ]\n",
            " [0.00246659]]\n",
            "[[0.00073998]\n",
            " [0.00221993]]\n",
            "[[0.00066598]\n",
            " [0.00199794]]\n",
            "[[0.00059938]\n",
            " [0.00179814]]\n",
            "[[0.00053944]\n",
            " [0.00161833]]\n",
            "[[0.0004855]\n",
            " [0.0014565]]\n",
            "[[0.00043695]\n",
            " [0.00131085]]\n",
            "[[0.00039325]\n",
            " [0.00117976]]\n",
            "[[0.00035393]\n",
            " [0.00106179]]\n",
            "[[0.00031854]\n",
            " [0.00095561]]\n",
            "[[0.00028668]\n",
            " [0.00086005]]\n",
            "[[0.00025801]\n",
            " [0.00077404]]\n",
            "[[0.00023221]\n",
            " [0.00069664]]\n",
            "[[0.00020899]\n",
            " [0.00062697]]\n",
            "[[0.00018809]\n",
            " [0.00056428]]\n",
            "[[0.00016928]\n",
            " [0.00050785]]\n",
            "[[0.00015235]\n",
            " [0.00045706]]\n",
            "[[0.00013712]\n",
            " [0.00041136]]\n",
            "[[0.00012341]\n",
            " [0.00037022]]\n",
            "[[0.00011107]\n",
            " [0.0003332 ]]\n",
            "[[9.99599161e-05]\n",
            " [2.99879748e-04]]\n",
            "[[8.99639245e-05]\n",
            " [2.69891773e-04]]\n",
            "[[8.09675320e-05]\n",
            " [2.42902596e-04]]\n",
            "[[7.28707788e-05]\n",
            " [2.18612337e-04]]\n",
            "[[6.55837010e-05]\n",
            " [1.96751103e-04]]\n",
            "[[5.90253309e-05]\n",
            " [1.77075993e-04]]\n",
            "[[5.31227978e-05]\n",
            " [1.59368393e-04]]\n",
            "[[1.7142933 ]\n",
            " [0.57146652]]\n"
          ]
        }
      ]
    },
    {
      "cell_type": "markdown",
      "source": [
        "# Problema 2"
      ],
      "metadata": {
        "id": "-5Pz36eqChmn"
      }
    },
    {
      "cell_type": "code",
      "source": [
        "from pyomo.environ import *\n",
        "\n",
        "# create a model\n",
        "model = ConcreteModel()\n",
        "\n",
        "# declare decision variables\n",
        "model.x = Var(domain=Integers)\n",
        "model.y = Var(domain=Integers)\n",
        "\n",
        "# declare objective\n",
        "model.obj = Objective(expr = -model.x**2 - model.y**2 +model.x*model.y +6*model.x +2*model.y, sense=maximize)\n",
        "\n",
        "model.restr1 = Constraint(expr = 2*model.x + 2*model.y == 12)\n",
        "\n",
        "model.pprint()\n",
        "\n",
        "msolver = SolverFactory('baron', executable=\"/content/baron-lin64/baron\")\n",
        "msolver.solve(model, tee=True)\n",
        "\n",
        "# display solution\n",
        "print('\\nUtilidade = ', model.obj())\n",
        "\n",
        "print('\\nDecision Variables')\n",
        "print('x = ', model.x())\n",
        "print('y = ', model.y())"
      ],
      "metadata": {
        "colab": {
          "base_uri": "https://localhost:8080/"
        },
        "id": "hjNyQ1JXCjhh",
        "outputId": "802c9751-238a-4f08-b46c-2151e2f4b8a1"
      },
      "execution_count": null,
      "outputs": [
        {
          "output_type": "stream",
          "name": "stdout",
          "text": [
            "2 Var Declarations\n",
            "    x : Size=1, Index=None\n",
            "        Key  : Lower : Value : Upper : Fixed : Stale : Domain\n",
            "        None :  None :  None :  None : False :  True : Integers\n",
            "    y : Size=1, Index=None\n",
            "        Key  : Lower : Value : Upper : Fixed : Stale : Domain\n",
            "        None :  None :  None :  None : False :  True : Integers\n",
            "\n",
            "1 Objective Declarations\n",
            "    obj : Size=1, Index=None, Active=True\n",
            "        Key  : Active : Sense    : Expression\n",
            "        None :   True : maximize : - x**2 - y**2 + x*y + 6*x + 2*y\n",
            "\n",
            "1 Constraint Declarations\n",
            "    restr1 : Size=1, Index=None, Active=True\n",
            "        Key  : Lower : Body      : Upper : Active\n",
            "        None :  12.0 : 2*x + 2*y :  12.0 :   True\n",
            "\n",
            "4 Declarations: x y obj restr1\n",
            "===========================================================================\n",
            " BARON version 23.6.23. Built: LNX-64 Fri Jun 23 12:56:02 EDT 2023\n",
            "\n",
            " BARON is a product of The Optimization Firm.\n",
            " For information on BARON, see https://minlp.com/about-baron\n",
            " No BARON license file found in user PATH.  Continuing in demo mode.\n",
            " Model size is allowable within BARON demo size.\n",
            "\n",
            " If you use this software, please cite publications from\n",
            " https://minlp.com/baron-publications, such as: \n",
            "\n",
            " Khajavirad, A. and N. V. Sahinidis,\n",
            " A hybrid LP/NLP paradigm for global optimization relaxations,\n",
            " Mathematical Programming Computation, 10, 383-421, 2018.\n",
            "===========================================================================\n",
            " This BARON run may utilize the following subsolver(s)\n",
            " For LP/MIP/QP: CLP/CBC                                         \n",
            " For NLP: IPOPT, FILTERSQP\n",
            "===========================================================================\n",
            " Doing local search\n",
            " Preprocessing found feasible solution with value 8.00000\n",
            " Solving bounding LP\n",
            " Starting multi-start local search\n",
            " Done with local search\n",
            "===========================================================================\n",
            "  Iteration    Open nodes         Time (s)    Lower bound      Upper bound\n",
            "*         1             1             0.02      16.0000          17.0000       \n",
            "          1             0             0.02      16.0000          16.0000       \n",
            "\n",
            " Calculating duals\n",
            "\n",
            "                         *** Normal completion ***            \n",
            "\n",
            " Wall clock time:                     0.02\n",
            " Total CPU time used:                 0.02\n",
            "\n",
            " Total no. of BaR iterations:       1\n",
            " Best solution found at node:       1\n",
            " Max. no. of nodes in memory:       1\n",
            " \n",
            " All done\n",
            "===========================================================================\n",
            "\n",
            "Utilidade =  16.0\n",
            "\n",
            "Decision Variables\n",
            "x =  4.0\n",
            "y =  2.0\n"
          ]
        }
      ]
    },
    {
      "cell_type": "markdown",
      "source": [
        "#KKT"
      ],
      "metadata": {
        "id": "Qj3Bh-WT-eBO"
      }
    },
    {
      "cell_type": "markdown",
      "source": [
        "##Problema 3"
      ],
      "metadata": {
        "id": "vJ65qBALQdhX"
      }
    },
    {
      "cell_type": "markdown",
      "source": [
        "$\\max z = -24x_1^2 -24x_2^2 +240x_1 + 240x_2\\\\\n",
        "s.t.\\\\\n",
        "2x_1+3x_2 \\leq 18 \\\\\n",
        "x_1 \\leq 6 \\\\\n",
        "x_1,x_2 \\geq 0$"
      ],
      "metadata": {
        "id": "mjBTWJN6QfFo"
      }
    },
    {
      "cell_type": "markdown",
      "source": [
        "$\\min 24x_1^2 +24x_2^2 -240x_1 - 240x_2\\\\\n",
        "s.t.\\\\\n",
        "2x_1+3x_2 -18 \\leq 0 \\\\\n",
        "x_1 -6 \\leq 0 \\\\\n",
        "- x_1 \\leq 0 \\\\\n",
        "- x_2 \\leq 0$"
      ],
      "metadata": {
        "id": "cfYsuJkvQqpX"
      }
    },
    {
      "cell_type": "markdown",
      "source": [
        "$\\mathcal{L}(x_1,x_2,\\mu_1,\\mu_2) = 24x_1^2+24x_2^2-240x_1-240x_2 + \\mu_1(2x_1+3x_2-18) + \\mu_2(x_1-6) + \\mu_3(-x_1) + \\mu_4(-x_2)$"
      ],
      "metadata": {
        "id": "Kmnfi4t3RIan"
      }
    },
    {
      "cell_type": "markdown",
      "source": [
        "**Estacionariedade**\n",
        "\n",
        "$48x^*_1-240+2\\mu^*_1 + \\mu^*_2 -\\mu^*_3= 0\\\\\n",
        "48x^*_2-240+3\\mu^*_1-\\mu^*_4 = 0$\n",
        "\n",
        "**Viabilidade Primal**\n",
        "\n",
        "$2x_1+3x_2 -18 \\leq 0 \\\\\n",
        "x_1 -6 \\leq 0 \\\\\n",
        "-x_1 \\leq 0 \\Rightarrow x^*_1 \\geq 0 \\\\\n",
        "-x_2 \\leq 0 \\Rightarrow x^*_2 \\geq 0$\n",
        "\n",
        "**Viabilidade Dual**\n",
        "\n",
        "$\\mu^*_1,\\mu^*_2,\\mu^*_3,\\mu^*_4 \\geq 0$\n",
        "\n",
        "**Complementaridade**\n",
        "\n",
        "$\\mu^*_1(2x_1+3x_2 -18) = 0\\\\\n",
        "\\mu^*_2(x_1 -6) = 0\\\\\n",
        "\\mu^*_3(-x^*_1) = 0\\\\\n",
        "\\mu^*_4(-x^*_2) = 0$"
      ],
      "metadata": {
        "id": "pIoJI4VoR08G"
      }
    },
    {
      "cell_type": "markdown",
      "source": [
        "$\n",
        "\\mu^*_3(-x^*_1) = 0 \\Rightarrow \\mu^*_3(x^*_1) = 0 \\Rightarrow x^*_1(48x^*_1-240+2\\mu^*_1 + \\mu^*_2) = 0 \\\\\n",
        "\\mu^*_4(-x^*_2) = 0 \\Rightarrow \\mu^*_4(x^*_2) = 0 \\Rightarrow x^*_2(48x^*_2-240+3\\mu^*_1) = 0\n",
        "$\n",
        "\n",
        "---\n",
        "Caso $x^*_1 \\neq 0$, $x^*_2 \\neq 0$, $\\mu^*_1 \\neq 0$, $\\mu^*_2 \\neq 0$\n",
        "\n",
        "\\\\\n",
        "$\n",
        "48x^*_1-240+2\\mu^*_1 + \\mu^*_2 = 0 \\\\\n",
        "48x^*_2-240+3\\mu^*_1 = 0 \\\\\n",
        "2x_1+3x_2 -18 = 0 \\\\\n",
        "x_1 -6 = 0\n",
        "$\n",
        "\n",
        "\\\\\n",
        "$\n",
        "x_1 = 6 \\\\\n",
        "x_2 = 2 \\\\\n",
        "\\mu^*_1 = 48 \\\\\n",
        "\\mu^*_2 = -144\n",
        "$\n",
        "\n",
        "---\n",
        "Caso $x^*_1 = 0$, $x^*_2 \\neq 0$, $\\mu^*_1 \\neq 0$, $\\mu^*_2 \\neq 0$\n",
        "\n",
        "\\\\\n",
        "$\n",
        "48x^*_2-240+3\\mu^*_1 = 0 \\\\\n",
        "3x_2 -18 = 0\n",
        "$\n",
        "\n",
        "\\\\\n",
        "$\n",
        "x_2 = 6 \\\\\n",
        "\\mu^*_1 = -16\n",
        "$\n",
        "\n",
        "---\n",
        "Caso $x^*_1 \\neq 0$, $x^*_2 = 0$, $\\mu^*_1 \\neq 0$, $\\mu^*_2 \\neq 0$\n",
        "\n",
        "\\\\\n",
        "$\n",
        "48x^*_1-240+2\\mu^*_1 + \\mu^*_2 = 0 \\\\\n",
        "2x_1 -18 = 0 \\\\\n",
        "x_1 -6 = 0\n",
        "$\n",
        "\n",
        "\\\\\n",
        "Se $\\mu^*_1 = 0$ então $x^*_1 = 6$ e $\\mu^*_2 = -48$ que é **FALSO**\n",
        "\n",
        "Se $\\mu^*_2 = 0$ então $x^*_1 = 9$ e $\\mu^*_1 = -96$ que é **FALSO**\n",
        "\n",
        "---\n",
        "Caso $x^*_1 \\neq 0$, $x^*_2 \\neq 0$, $\\mu^*_1 = 0$, $\\mu^*_2 \\neq 0$\n",
        "\n",
        "\\\\\n",
        "$\n",
        "48x^*_1-240 + \\mu^*_2 = 0 \\\\\n",
        "48x^*_2-240 = 0 \\\\\n",
        "x_1 -6 = 0\n",
        "$\n",
        "\n",
        "\\\\\n",
        "$\n",
        "x_1 = 6 \\\\\n",
        "x_2 = 5 \\\\\n",
        "\\mu^*_2 = -48\n",
        "$\n",
        "\n",
        "---\n",
        "Caso $x^*_1 \\neq 0$, $x^*_2 \\neq 0$, $\\mu^*_1 \\neq 0$, $\\mu^*_2 = 0$\n",
        "\n",
        "\\\\\n",
        "$\n",
        "48x^*_1-240+2\\mu^*_1 = 0 \\\\\n",
        "48x^*_2-240+3\\mu^*_1 = 0 \\\\\n",
        "2x_1+3x_2 -18 = 0\n",
        "$\n",
        "\n",
        "\\\\\n",
        "$\n",
        "x_1 = 3.92 \\\\\n",
        "x_2 = 3.38 \\\\\n",
        "\\mu^*_1 = 25.85 \\\\\n",
        "\\mu^*_2 = 0\n",
        "$\n"
      ],
      "metadata": {
        "id": "-dPRWF5tS08r"
      }
    },
    {
      "cell_type": "markdown",
      "source": [
        "#Solver - Problema 3"
      ],
      "metadata": {
        "id": "C_OCOZkuJdIC"
      }
    },
    {
      "cell_type": "markdown",
      "source": [
        "$\\max z = -24x_1^2 -24x_2^2 +240x_1 + 240x_2\\\\\n",
        "s.t.\\\\\n",
        "2x_1+3x_2 \\leq 18 \\\\\n",
        "x_1 \\leq 6 \\\\\n",
        "x_1,x_2 \\geq 0$"
      ],
      "metadata": {
        "id": "m6kZd1K-JdIC"
      }
    },
    {
      "cell_type": "code",
      "source": [
        "!pip install -q cplex"
      ],
      "metadata": {
        "colab": {
          "base_uri": "https://localhost:8080/"
        },
        "id": "g_sqEzbeJcvM",
        "outputId": "74270e7e-0228-4d61-bab0-d0f6851d3792"
      },
      "execution_count": null,
      "outputs": [
        {
          "output_type": "stream",
          "name": "stdout",
          "text": [
            "\u001b[2K     \u001b[90m━━━━━━━━━━━━━━━━━━━━━━━━━━━━━━━━━━━━━━━━\u001b[0m \u001b[32m44.2/44.2 MB\u001b[0m \u001b[31m25.9 MB/s\u001b[0m eta \u001b[36m0:00:00\u001b[0m\n",
            "\u001b[?25h"
          ]
        }
      ]
    },
    {
      "cell_type": "code",
      "source": [
        "from pyomo.environ import *\n",
        "\n",
        "# create a model\n",
        "model = ConcreteModel()\n",
        "\n",
        "# declare decision variables\n",
        "model.x1 = Var()\n",
        "model.x2 = Var()\n",
        "\n",
        "# declare objective\n",
        "model.obj = Objective(expr = -24*model.x1**2-24*model.x2**2+240*model.x1+240*model.x2, sense=maximize)\n",
        "\n",
        "model.c1 = Constraint(expr = 2*model.x1 + 3*model.x2 <= 18)\n",
        "model.c2 = Constraint(expr = model.x1 <= 6)\n",
        "model.c3 = Constraint(expr = model.x1 >= 0)\n",
        "model.c4 = Constraint(expr = model.x2 >= 0)\n",
        "\n",
        "model.pprint()\n",
        "\n",
        "#msolver = SolverFactory('cplex_direct')\n",
        "msolver = SolverFactory('baron', executable=\"/content/baron-lin64/baron\")\n",
        "msolver.solve(model, tee=True)\n",
        "\n",
        "# display solution\n",
        "print('\\nUtilidade = ', model.obj())\n",
        "\n",
        "print('\\nDecision Variables')\n",
        "print('x1 = ', model.x1())\n",
        "print('x2 = ', model.x2())\n"
      ],
      "metadata": {
        "colab": {
          "base_uri": "https://localhost:8080/"
        },
        "outputId": "eaf95778-3bf1-44e9-9a8c-4eca631a81ea",
        "id": "CUOYitUVJdIC"
      },
      "execution_count": null,
      "outputs": [
        {
          "output_type": "stream",
          "name": "stdout",
          "text": [
            "2 Var Declarations\n",
            "    x1 : Size=1, Index=None\n",
            "        Key  : Lower : Value : Upper : Fixed : Stale : Domain\n",
            "        None :  None :  None :  None : False :  True :  Reals\n",
            "    x2 : Size=1, Index=None\n",
            "        Key  : Lower : Value : Upper : Fixed : Stale : Domain\n",
            "        None :  None :  None :  None : False :  True :  Reals\n",
            "\n",
            "1 Objective Declarations\n",
            "    obj : Size=1, Index=None, Active=True\n",
            "        Key  : Active : Sense    : Expression\n",
            "        None :   True : maximize : -24*x1**2 - 24*x2**2 + 240*x1 + 240*x2\n",
            "\n",
            "4 Constraint Declarations\n",
            "    c1 : Size=1, Index=None, Active=True\n",
            "        Key  : Lower : Body        : Upper : Active\n",
            "        None :  -Inf : 2*x1 + 3*x2 :  18.0 :   True\n",
            "    c2 : Size=1, Index=None, Active=True\n",
            "        Key  : Lower : Body : Upper : Active\n",
            "        None :  -Inf :   x1 :   6.0 :   True\n",
            "    c3 : Size=1, Index=None, Active=True\n",
            "        Key  : Lower : Body : Upper : Active\n",
            "        None :   0.0 :   x1 :  +Inf :   True\n",
            "    c4 : Size=1, Index=None, Active=True\n",
            "        Key  : Lower : Body : Upper : Active\n",
            "        None :   0.0 :   x2 :  +Inf :   True\n",
            "\n",
            "7 Declarations: x1 x2 obj c1 c2 c3 c4\n",
            "===========================================================================\n",
            " BARON version 23.6.23. Built: LNX-64 Fri Jun 23 12:56:02 EDT 2023\n",
            "\n",
            " BARON is a product of The Optimization Firm.\n",
            " For information on BARON, see https://minlp.com/about-baron\n",
            " No BARON license file found in user PATH.  Continuing in demo mode.\n",
            " Model size is allowable within BARON demo size.\n",
            "\n",
            " If you use this software, please cite publications from\n",
            " https://minlp.com/baron-publications, such as: \n",
            "\n",
            " Khajavirad, A. and N. V. Sahinidis,\n",
            " A hybrid LP/NLP paradigm for global optimization relaxations,\n",
            " Mathematical Programming Computation, 10, 383-421, 2018.\n",
            "===========================================================================\n",
            " This BARON run may utilize the following subsolver(s)\n",
            " For LP/MIP/QP: CLP/CBC                                         \n",
            " For NLP: IPOPT, FILTERSQP\n",
            "===========================================================================\n",
            " Starting solution is feasible with a value of   0.00000          \n",
            " Doing local search\n",
            " Preprocessing found feasible solution with value 1109.54\n",
            " Problem solved during preprocessing\n",
            " Upper bound is    1109.54\n",
            "\n",
            " Calculating duals\n",
            "\n",
            "                         *** Normal completion ***            \n",
            "\n",
            " Wall clock time:                     0.01\n",
            " Total CPU time used:                 0.01\n",
            "\n",
            " Total no. of BaR iterations:      -1\n",
            " Best solution found at node:      -1\n",
            " Max. no. of nodes in memory:       0\n",
            " \n",
            " All done\n",
            "===========================================================================\n",
            "\n",
            "Utilidade =  1109.5384615849607\n",
            "\n",
            "Decision Variables\n",
            "x1 =  3.9230769233536447\n",
            "x2 =  3.3846153850305942\n"
          ]
        }
      ]
    },
    {
      "cell_type": "markdown",
      "source": [
        "# Problema 4"
      ],
      "metadata": {
        "id": "kU-bpPykDoax"
      }
    },
    {
      "cell_type": "markdown",
      "source": [
        "$\\max x_1^2 + x_2^2 - x_1x_2 +2x_1 +4x_2 + 3\\\\\n",
        "s.t.\\\\\n",
        "-5 \\leq x_1 \\leq 5\\\\\n",
        "-5 \\leq x_2 \\leq 5\\\\\n",
        "$"
      ],
      "metadata": {
        "id": "n6X58oL7Cxrf"
      }
    },
    {
      "cell_type": "code",
      "source": [
        "from pyomo.environ import *\n",
        "\n",
        "# create a model\n",
        "model = ConcreteModel()\n",
        "\n",
        "# declare decision variables\n",
        "model.x1 = Var(domain=Reals,bounds=(-5,5))\n",
        "model.x2 = Var(domain=Reals,bounds=(-5,5))\n",
        "\n",
        "# declare objective\n",
        "model.obj = Objective(expr = model.x1**2 + model.x2**2 -model.x1*model.x2 +2*model.x1 + 4*model.x2 +3, sense=maximize)\n",
        "\n",
        "model.pprint()\n",
        "\n",
        "msolver = SolverFactory('baron', executable=\"/content/baron-lin64/baron\")\n",
        "msolver.solve(model, tee=True)\n",
        "\n",
        "# display solution\n",
        "print('\\nUtilidade = ', model.obj())\n",
        "\n",
        "print('\\nDecision Variables')\n",
        "print('x = ', model.x1())\n",
        "print('y = ', model.x2())"
      ],
      "metadata": {
        "colab": {
          "base_uri": "https://localhost:8080/"
        },
        "id": "gxkySJ2bBiB-",
        "outputId": "0659a234-e509-41bf-fcf8-f32a9e85f2b6"
      },
      "execution_count": null,
      "outputs": [
        {
          "output_type": "stream",
          "name": "stdout",
          "text": [
            "2 Var Declarations\n",
            "    x1 : Size=1, Index=None\n",
            "        Key  : Lower : Value : Upper : Fixed : Stale : Domain\n",
            "        None :    -5 :  None :     5 : False :  True :  Reals\n",
            "    x2 : Size=1, Index=None\n",
            "        Key  : Lower : Value : Upper : Fixed : Stale : Domain\n",
            "        None :    -5 :  None :     5 : False :  True :  Reals\n",
            "\n",
            "1 Objective Declarations\n",
            "    obj : Size=1, Index=None, Active=True\n",
            "        Key  : Active : Sense    : Expression\n",
            "        None :   True : maximize : x1**2 + x2**2 - x1*x2 + 2*x1 + 4*x2 + 3\n",
            "\n",
            "3 Declarations: x1 x2 obj\n",
            "===========================================================================\n",
            " BARON version 24.4.6. Built: LNX-64 Sat Apr 6 10:35:39 EDT 2024 \n",
            " Running on machine f1463a1f0fcd\n",
            "\n",
            " BARON is a product of The Optimization Firm.\n",
            " For information on BARON, see https://minlp.com/about-baron\n",
            " No BARON license file found in user PATH.  Continuing in demo mode.\n",
            " Model size is allowable within BARON demo size.\n",
            "\n",
            " If you publish work using this software, please cite publications from\n",
            " https://minlp.com/baron-publications, such as: \n",
            "\n",
            " Khajavirad, A. and N. V. Sahinidis,\n",
            " A hybrid LP/NLP paradigm for global optimization relaxations,\n",
            " Mathematical Programming Computation, 10, 383-421, 2018.\n",
            "===========================================================================\n",
            " This BARON run may utilize the following subsolver(s)\n",
            " For LP/MIP/QP: CLP/CBC                                         \n",
            " For NLP: IPOPT, FILTERSQP\n",
            "===========================================================================\n",
            " Starting solution is feasible with a value of   3.00000          \n",
            " Preprocessing found feasible solution with value 58.0000\n",
            " Doing local search\n",
            " Preprocessing found feasible solution with value 88.0000\n",
            " Solving bounding LP\n",
            " Problem solved during preprocessing\n",
            " Upper bound is    88.0000\n",
            "\n",
            "                         *** Normal completion ***            \n",
            "\n",
            " Wall clock time:                     0.01\n",
            " Total CPU time used:                 0.01\n",
            "\n",
            " Total no. of BaR iterations:      -1\n",
            " Best solution found at node:      -1\n",
            " Max. no. of nodes in memory:       0\n",
            " \n",
            " All done\n",
            "===========================================================================\n",
            "\n",
            "Utilidade =  88.0\n",
            "\n",
            "Decision Variables\n",
            "x =  -5.0\n",
            "y =  5.0\n"
          ]
        }
      ]
    }
  ]
}